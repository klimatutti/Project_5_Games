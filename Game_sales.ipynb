{
 "cells": [
  {
   "cell_type": "markdown",
   "id": "bcc45543",
   "metadata": {},
   "source": [
    "# Интернет-магазин \"Стримчик\""
   ]
  },
  {
   "cell_type": "markdown",
   "id": "cdadab26",
   "metadata": {},
   "source": [
    "Вы работаете в интернет-магазине «Стримчик», который продаёт по всему миру компьютерные игры. Из открытых источников доступны исторические данные о продажах игр, оценки пользователей и экспертов, жанры и платформы (например, Xbox или PlayStation). Вам нужно выявить определяющие успешность игры закономерности. Это позволит сделать ставку на потенциально популярный продукт и спланировать рекламные кампании.\n",
    "\n",
    "Перед вами данные до 2016 года. Представим, что сейчас декабрь 2016 г., и вы планируете кампанию на 2017-й. Нужно отработать принцип работы с данными. Неважно, прогнозируете ли вы продажи на 2017 год по данным 2016-го или же 2027-й — по данным 2026 года.\n",
    "\n",
    "В наборе данных попадается аббревиатура ESRB (Entertainment Software Rating Board) — это ассоциация, определяющая возрастной рейтинг компьютерных игр. ESRB оценивает игровой контент и присваивает ему подходящую возрастную категорию, например, «Для взрослых», «Для детей младшего возраста» или «Для подростков»."
   ]
  },
  {
   "cell_type": "markdown",
   "id": "77c06513",
   "metadata": {},
   "source": [
    "Проанализируем характеристики игр и зависимости между ними для того, чтобы составить рекомендацию для потенциально прибыльной и популярной игры. Для исследования первым делом обработаем данные (приведем к общепринятому виду, рассомтрим пропуски и дубликаты). "
   ]
  },
  {
   "cell_type": "markdown",
   "id": "ab19c2a0",
   "metadata": {},
   "source": [
    "## Обработка данных"
   ]
  },
  {
   "cell_type": "code",
   "execution_count": 2,
   "id": "73034c6f",
   "metadata": {},
   "outputs": [],
   "source": [
    "import pandas as pd\n",
    "import matplotlib.pyplot as plt\n",
    "import numpy as np\n",
    "import seaborn \n",
    "from scipy import stats as st"
   ]
  },
  {
   "cell_type": "code",
   "execution_count": 3,
   "id": "01d5da4b",
   "metadata": {},
   "outputs": [],
   "source": [
    "try:\n",
    "    data = pd.read_csv('C:/Users/klimatutti/Downloads/games.csv')\n",
    "except:\n",
    "    data = pd.read_csv('/datasets/games.csv')"
   ]
  },
  {
   "cell_type": "code",
   "execution_count": 4,
   "id": "9f7eea2d",
   "metadata": {},
   "outputs": [
    {
     "name": "stdout",
     "output_type": "stream",
     "text": [
      "<class 'pandas.core.frame.DataFrame'>\n",
      "RangeIndex: 16715 entries, 0 to 16714\n",
      "Data columns (total 11 columns):\n",
      " #   Column           Non-Null Count  Dtype  \n",
      "---  ------           --------------  -----  \n",
      " 0   Name             16713 non-null  object \n",
      " 1   Platform         16715 non-null  object \n",
      " 2   Year_of_Release  16446 non-null  float64\n",
      " 3   Genre            16713 non-null  object \n",
      " 4   NA_sales         16715 non-null  float64\n",
      " 5   EU_sales         16715 non-null  float64\n",
      " 6   JP_sales         16715 non-null  float64\n",
      " 7   Other_sales      16715 non-null  float64\n",
      " 8   Critic_Score     8137 non-null   float64\n",
      " 9   User_Score       10014 non-null  object \n",
      " 10  Rating           9949 non-null   object \n",
      "dtypes: float64(6), object(5)\n",
      "memory usage: 1.4+ MB\n"
     ]
    }
   ],
   "source": [
    "data.info()"
   ]
  },
  {
   "cell_type": "code",
   "execution_count": 5,
   "id": "58276c10",
   "metadata": {},
   "outputs": [
    {
     "data": {
      "text/html": [
       "<div>\n",
       "<style scoped>\n",
       "    .dataframe tbody tr th:only-of-type {\n",
       "        vertical-align: middle;\n",
       "    }\n",
       "\n",
       "    .dataframe tbody tr th {\n",
       "        vertical-align: top;\n",
       "    }\n",
       "\n",
       "    .dataframe thead th {\n",
       "        text-align: right;\n",
       "    }\n",
       "</style>\n",
       "<table border=\"1\" class=\"dataframe\">\n",
       "  <thead>\n",
       "    <tr style=\"text-align: right;\">\n",
       "      <th></th>\n",
       "      <th>Name</th>\n",
       "      <th>Platform</th>\n",
       "      <th>Year_of_Release</th>\n",
       "      <th>Genre</th>\n",
       "      <th>NA_sales</th>\n",
       "      <th>EU_sales</th>\n",
       "      <th>JP_sales</th>\n",
       "      <th>Other_sales</th>\n",
       "      <th>Critic_Score</th>\n",
       "      <th>User_Score</th>\n",
       "      <th>Rating</th>\n",
       "    </tr>\n",
       "  </thead>\n",
       "  <tbody>\n",
       "    <tr>\n",
       "      <th>0</th>\n",
       "      <td>Wii Sports</td>\n",
       "      <td>Wii</td>\n",
       "      <td>2006.0</td>\n",
       "      <td>Sports</td>\n",
       "      <td>41.36</td>\n",
       "      <td>28.96</td>\n",
       "      <td>3.77</td>\n",
       "      <td>8.45</td>\n",
       "      <td>76.0</td>\n",
       "      <td>8</td>\n",
       "      <td>E</td>\n",
       "    </tr>\n",
       "    <tr>\n",
       "      <th>1</th>\n",
       "      <td>Super Mario Bros.</td>\n",
       "      <td>NES</td>\n",
       "      <td>1985.0</td>\n",
       "      <td>Platform</td>\n",
       "      <td>29.08</td>\n",
       "      <td>3.58</td>\n",
       "      <td>6.81</td>\n",
       "      <td>0.77</td>\n",
       "      <td>NaN</td>\n",
       "      <td>NaN</td>\n",
       "      <td>NaN</td>\n",
       "    </tr>\n",
       "    <tr>\n",
       "      <th>2</th>\n",
       "      <td>Mario Kart Wii</td>\n",
       "      <td>Wii</td>\n",
       "      <td>2008.0</td>\n",
       "      <td>Racing</td>\n",
       "      <td>15.68</td>\n",
       "      <td>12.76</td>\n",
       "      <td>3.79</td>\n",
       "      <td>3.29</td>\n",
       "      <td>82.0</td>\n",
       "      <td>8.3</td>\n",
       "      <td>E</td>\n",
       "    </tr>\n",
       "    <tr>\n",
       "      <th>3</th>\n",
       "      <td>Wii Sports Resort</td>\n",
       "      <td>Wii</td>\n",
       "      <td>2009.0</td>\n",
       "      <td>Sports</td>\n",
       "      <td>15.61</td>\n",
       "      <td>10.93</td>\n",
       "      <td>3.28</td>\n",
       "      <td>2.95</td>\n",
       "      <td>80.0</td>\n",
       "      <td>8</td>\n",
       "      <td>E</td>\n",
       "    </tr>\n",
       "    <tr>\n",
       "      <th>4</th>\n",
       "      <td>Pokemon Red/Pokemon Blue</td>\n",
       "      <td>GB</td>\n",
       "      <td>1996.0</td>\n",
       "      <td>Role-Playing</td>\n",
       "      <td>11.27</td>\n",
       "      <td>8.89</td>\n",
       "      <td>10.22</td>\n",
       "      <td>1.00</td>\n",
       "      <td>NaN</td>\n",
       "      <td>NaN</td>\n",
       "      <td>NaN</td>\n",
       "    </tr>\n",
       "    <tr>\n",
       "      <th>5</th>\n",
       "      <td>Tetris</td>\n",
       "      <td>GB</td>\n",
       "      <td>1989.0</td>\n",
       "      <td>Puzzle</td>\n",
       "      <td>23.20</td>\n",
       "      <td>2.26</td>\n",
       "      <td>4.22</td>\n",
       "      <td>0.58</td>\n",
       "      <td>NaN</td>\n",
       "      <td>NaN</td>\n",
       "      <td>NaN</td>\n",
       "    </tr>\n",
       "    <tr>\n",
       "      <th>6</th>\n",
       "      <td>New Super Mario Bros.</td>\n",
       "      <td>DS</td>\n",
       "      <td>2006.0</td>\n",
       "      <td>Platform</td>\n",
       "      <td>11.28</td>\n",
       "      <td>9.14</td>\n",
       "      <td>6.50</td>\n",
       "      <td>2.88</td>\n",
       "      <td>89.0</td>\n",
       "      <td>8.5</td>\n",
       "      <td>E</td>\n",
       "    </tr>\n",
       "    <tr>\n",
       "      <th>7</th>\n",
       "      <td>Wii Play</td>\n",
       "      <td>Wii</td>\n",
       "      <td>2006.0</td>\n",
       "      <td>Misc</td>\n",
       "      <td>13.96</td>\n",
       "      <td>9.18</td>\n",
       "      <td>2.93</td>\n",
       "      <td>2.84</td>\n",
       "      <td>58.0</td>\n",
       "      <td>6.6</td>\n",
       "      <td>E</td>\n",
       "    </tr>\n",
       "    <tr>\n",
       "      <th>8</th>\n",
       "      <td>New Super Mario Bros. Wii</td>\n",
       "      <td>Wii</td>\n",
       "      <td>2009.0</td>\n",
       "      <td>Platform</td>\n",
       "      <td>14.44</td>\n",
       "      <td>6.94</td>\n",
       "      <td>4.70</td>\n",
       "      <td>2.24</td>\n",
       "      <td>87.0</td>\n",
       "      <td>8.4</td>\n",
       "      <td>E</td>\n",
       "    </tr>\n",
       "    <tr>\n",
       "      <th>9</th>\n",
       "      <td>Duck Hunt</td>\n",
       "      <td>NES</td>\n",
       "      <td>1984.0</td>\n",
       "      <td>Shooter</td>\n",
       "      <td>26.93</td>\n",
       "      <td>0.63</td>\n",
       "      <td>0.28</td>\n",
       "      <td>0.47</td>\n",
       "      <td>NaN</td>\n",
       "      <td>NaN</td>\n",
       "      <td>NaN</td>\n",
       "    </tr>\n",
       "  </tbody>\n",
       "</table>\n",
       "</div>"
      ],
      "text/plain": [
       "                        Name Platform  Year_of_Release         Genre  \\\n",
       "0                 Wii Sports      Wii           2006.0        Sports   \n",
       "1          Super Mario Bros.      NES           1985.0      Platform   \n",
       "2             Mario Kart Wii      Wii           2008.0        Racing   \n",
       "3          Wii Sports Resort      Wii           2009.0        Sports   \n",
       "4   Pokemon Red/Pokemon Blue       GB           1996.0  Role-Playing   \n",
       "5                     Tetris       GB           1989.0        Puzzle   \n",
       "6      New Super Mario Bros.       DS           2006.0      Platform   \n",
       "7                   Wii Play      Wii           2006.0          Misc   \n",
       "8  New Super Mario Bros. Wii      Wii           2009.0      Platform   \n",
       "9                  Duck Hunt      NES           1984.0       Shooter   \n",
       "\n",
       "   NA_sales  EU_sales  JP_sales  Other_sales  Critic_Score User_Score Rating  \n",
       "0     41.36     28.96      3.77         8.45          76.0          8      E  \n",
       "1     29.08      3.58      6.81         0.77           NaN        NaN    NaN  \n",
       "2     15.68     12.76      3.79         3.29          82.0        8.3      E  \n",
       "3     15.61     10.93      3.28         2.95          80.0          8      E  \n",
       "4     11.27      8.89     10.22         1.00           NaN        NaN    NaN  \n",
       "5     23.20      2.26      4.22         0.58           NaN        NaN    NaN  \n",
       "6     11.28      9.14      6.50         2.88          89.0        8.5      E  \n",
       "7     13.96      9.18      2.93         2.84          58.0        6.6      E  \n",
       "8     14.44      6.94      4.70         2.24          87.0        8.4      E  \n",
       "9     26.93      0.63      0.28         0.47           NaN        NaN    NaN  "
      ]
     },
     "execution_count": 5,
     "metadata": {},
     "output_type": "execute_result"
    }
   ],
   "source": [
    "data.head(10)"
   ]
  },
  {
   "cell_type": "code",
   "execution_count": 6,
   "id": "e258c108",
   "metadata": {},
   "outputs": [
    {
     "data": {
      "image/png": "[encoded data removed]",
      "text/plain": [
       "<Figure size 1500x2000 with 6 Axes>"
      ]
     },
     "metadata": {},
     "output_type": "display_data"
    }
   ],
   "source": [
    "data.hist(figsize=(15, 20));"
   ]
  },
  {
   "cell_type": "markdown",
   "id": "666df945",
   "metadata": {},
   "source": [
    "**Первое, что бросается в глаза:**\n",
    "- Названия столбцов в верхнем регистре\n",
    "- Некорректные типы данных (`Year_of_Release`, `User_Score`)\n",
    "- Пропуски в некоторых стобцах"
   ]
  },
  {
   "cell_type": "markdown",
   "id": "b303b72e",
   "metadata": {},
   "source": [
    "Приведем названия всех столбцов к нижнему регистру"
   ]
  },
  {
   "cell_type": "code",
   "execution_count": 7,
   "id": "2c2574c0",
   "metadata": {},
   "outputs": [],
   "source": [
    "data.columns = [i.lower() for i in data.columns]"
   ]
  },
  {
   "cell_type": "code",
   "execution_count": 8,
   "id": "818d0ad7",
   "metadata": {},
   "outputs": [
    {
     "name": "stdout",
     "output_type": "stream",
     "text": [
      "<class 'pandas.core.frame.DataFrame'>\n",
      "RangeIndex: 16715 entries, 0 to 16714\n",
      "Data columns (total 11 columns):\n",
      " #   Column           Non-Null Count  Dtype  \n",
      "---  ------           --------------  -----  \n",
      " 0   name             16713 non-null  object \n",
      " 1   platform         16715 non-null  object \n",
      " 2   year_of_release  16446 non-null  float64\n",
      " 3   genre            16713 non-null  object \n",
      " 4   na_sales         16715 non-null  float64\n",
      " 5   eu_sales         16715 non-null  float64\n",
      " 6   jp_sales         16715 non-null  float64\n",
      " 7   other_sales      16715 non-null  float64\n",
      " 8   critic_score     8137 non-null   float64\n",
      " 9   user_score       10014 non-null  object \n",
      " 10  rating           9949 non-null   object \n",
      "dtypes: float64(6), object(5)\n",
      "memory usage: 1.4+ MB\n"
     ]
    }
   ],
   "source": [
    "data.info()"
   ]
  },
  {
   "cell_type": "markdown",
   "id": "2b14b358",
   "metadata": {},
   "source": [
    "Посмотрим на пропуски."
   ]
  },
  {
   "cell_type": "code",
   "execution_count": 9,
   "id": "880e5099",
   "metadata": {},
   "outputs": [
    {
     "data": {
      "text/plain": [
       "name                  2\n",
       "platform              0\n",
       "year_of_release     269\n",
       "genre                 2\n",
       "na_sales              0\n",
       "eu_sales              0\n",
       "jp_sales              0\n",
       "other_sales           0\n",
       "critic_score       8578\n",
       "user_score         6701\n",
       "rating             6766\n",
       "dtype: int64"
      ]
     },
     "execution_count": 9,
     "metadata": {},
     "output_type": "execute_result"
    }
   ],
   "source": [
    "data.isna().sum()"
   ]
  },
  {
   "cell_type": "code",
   "execution_count": 10,
   "id": "02a5359b",
   "metadata": {},
   "outputs": [
    {
     "data": {
      "text/html": [
       "<style type=\"text/css\">\n",
       "#T_97e6e_row0_col0, #T_97e6e_row1_col0, #T_97e6e_row3_col0, #T_97e6e_row4_col0, #T_97e6e_row5_col0, #T_97e6e_row6_col0, #T_97e6e_row7_col0 {\n",
       "  background-color: #3b4cc0;\n",
       "  color: #f1f1f1;\n",
       "}\n",
       "#T_97e6e_row2_col0 {\n",
       "  background-color: #4358cb;\n",
       "  color: #f1f1f1;\n",
       "}\n",
       "#T_97e6e_row8_col0 {\n",
       "  background-color: #b40426;\n",
       "  color: #f1f1f1;\n",
       "}\n",
       "#T_97e6e_row9_col0 {\n",
       "  background-color: #f08b6e;\n",
       "  color: #f1f1f1;\n",
       "}\n",
       "#T_97e6e_row10_col0 {\n",
       "  background-color: #ef886b;\n",
       "  color: #f1f1f1;\n",
       "}\n",
       "</style>\n",
       "<table id=\"T_97e6e\">\n",
       "  <thead>\n",
       "    <tr>\n",
       "      <th class=\"blank level0\" >&nbsp;</th>\n",
       "      <th id=\"T_97e6e_level0_col0\" class=\"col_heading level0 col0\" >0</th>\n",
       "    </tr>\n",
       "  </thead>\n",
       "  <tbody>\n",
       "    <tr>\n",
       "      <th id=\"T_97e6e_level0_row0\" class=\"row_heading level0 row0\" >name</th>\n",
       "      <td id=\"T_97e6e_row0_col0\" class=\"data row0 col0\" >0.000000</td>\n",
       "    </tr>\n",
       "    <tr>\n",
       "      <th id=\"T_97e6e_level0_row1\" class=\"row_heading level0 row1\" >platform</th>\n",
       "      <td id=\"T_97e6e_row1_col0\" class=\"data row1 col0\" >0.000000</td>\n",
       "    </tr>\n",
       "    <tr>\n",
       "      <th id=\"T_97e6e_level0_row2\" class=\"row_heading level0 row2\" >year_of_release</th>\n",
       "      <td id=\"T_97e6e_row2_col0\" class=\"data row2 col0\" >1.600000</td>\n",
       "    </tr>\n",
       "    <tr>\n",
       "      <th id=\"T_97e6e_level0_row3\" class=\"row_heading level0 row3\" >genre</th>\n",
       "      <td id=\"T_97e6e_row3_col0\" class=\"data row3 col0\" >0.000000</td>\n",
       "    </tr>\n",
       "    <tr>\n",
       "      <th id=\"T_97e6e_level0_row4\" class=\"row_heading level0 row4\" >na_sales</th>\n",
       "      <td id=\"T_97e6e_row4_col0\" class=\"data row4 col0\" >0.000000</td>\n",
       "    </tr>\n",
       "    <tr>\n",
       "      <th id=\"T_97e6e_level0_row5\" class=\"row_heading level0 row5\" >eu_sales</th>\n",
       "      <td id=\"T_97e6e_row5_col0\" class=\"data row5 col0\" >0.000000</td>\n",
       "    </tr>\n",
       "    <tr>\n",
       "      <th id=\"T_97e6e_level0_row6\" class=\"row_heading level0 row6\" >jp_sales</th>\n",
       "      <td id=\"T_97e6e_row6_col0\" class=\"data row6 col0\" >0.000000</td>\n",
       "    </tr>\n",
       "    <tr>\n",
       "      <th id=\"T_97e6e_level0_row7\" class=\"row_heading level0 row7\" >other_sales</th>\n",
       "      <td id=\"T_97e6e_row7_col0\" class=\"data row7 col0\" >0.000000</td>\n",
       "    </tr>\n",
       "    <tr>\n",
       "      <th id=\"T_97e6e_level0_row8\" class=\"row_heading level0 row8\" >critic_score</th>\n",
       "      <td id=\"T_97e6e_row8_col0\" class=\"data row8 col0\" >51.300000</td>\n",
       "    </tr>\n",
       "    <tr>\n",
       "      <th id=\"T_97e6e_level0_row9\" class=\"row_heading level0 row9\" >user_score</th>\n",
       "      <td id=\"T_97e6e_row9_col0\" class=\"data row9 col0\" >40.100000</td>\n",
       "    </tr>\n",
       "    <tr>\n",
       "      <th id=\"T_97e6e_level0_row10\" class=\"row_heading level0 row10\" >rating</th>\n",
       "      <td id=\"T_97e6e_row10_col0\" class=\"data row10 col0\" >40.500000</td>\n",
       "    </tr>\n",
       "  </tbody>\n",
       "</table>\n"
      ],
      "text/plain": [
       "<pandas.io.formats.style.Styler at 0x25b3392b2b0>"
      ]
     },
     "execution_count": 10,
     "metadata": {},
     "output_type": "execute_result"
    }
   ],
   "source": [
    "pd.DataFrame(round(data.isna().mean()*100,1)).style.background_gradient('coolwarm')"
   ]
  },
  {
   "cell_type": "markdown",
   "id": "3d637d7d",
   "metadata": {},
   "source": [
    "Первый столбец с пропусками - `name`."
   ]
  },
  {
   "cell_type": "code",
   "execution_count": 11,
   "id": "15e4cbaf",
   "metadata": {},
   "outputs": [
    {
     "data": {
      "text/html": [
       "<div>\n",
       "<style scoped>\n",
       "    .dataframe tbody tr th:only-of-type {\n",
       "        vertical-align: middle;\n",
       "    }\n",
       "\n",
       "    .dataframe tbody tr th {\n",
       "        vertical-align: top;\n",
       "    }\n",
       "\n",
       "    .dataframe thead th {\n",
       "        text-align: right;\n",
       "    }\n",
       "</style>\n",
       "<table border=\"1\" class=\"dataframe\">\n",
       "  <thead>\n",
       "    <tr style=\"text-align: right;\">\n",
       "      <th></th>\n",
       "      <th>name</th>\n",
       "      <th>platform</th>\n",
       "      <th>year_of_release</th>\n",
       "      <th>genre</th>\n",
       "      <th>na_sales</th>\n",
       "      <th>eu_sales</th>\n",
       "      <th>jp_sales</th>\n",
       "      <th>other_sales</th>\n",
       "      <th>critic_score</th>\n",
       "      <th>user_score</th>\n",
       "      <th>rating</th>\n",
       "    </tr>\n",
       "  </thead>\n",
       "  <tbody>\n",
       "    <tr>\n",
       "      <th>659</th>\n",
       "      <td>NaN</td>\n",
       "      <td>GEN</td>\n",
       "      <td>1993.0</td>\n",
       "      <td>NaN</td>\n",
       "      <td>1.78</td>\n",
       "      <td>0.53</td>\n",
       "      <td>0.00</td>\n",
       "      <td>0.08</td>\n",
       "      <td>NaN</td>\n",
       "      <td>NaN</td>\n",
       "      <td>NaN</td>\n",
       "    </tr>\n",
       "    <tr>\n",
       "      <th>14244</th>\n",
       "      <td>NaN</td>\n",
       "      <td>GEN</td>\n",
       "      <td>1993.0</td>\n",
       "      <td>NaN</td>\n",
       "      <td>0.00</td>\n",
       "      <td>0.00</td>\n",
       "      <td>0.03</td>\n",
       "      <td>0.00</td>\n",
       "      <td>NaN</td>\n",
       "      <td>NaN</td>\n",
       "      <td>NaN</td>\n",
       "    </tr>\n",
       "  </tbody>\n",
       "</table>\n",
       "</div>"
      ],
      "text/plain": [
       "      name platform  year_of_release genre  na_sales  eu_sales  jp_sales  \\\n",
       "659    NaN      GEN           1993.0   NaN      1.78      0.53      0.00   \n",
       "14244  NaN      GEN           1993.0   NaN      0.00      0.00      0.03   \n",
       "\n",
       "       other_sales  critic_score user_score rating  \n",
       "659           0.08           NaN        NaN    NaN  \n",
       "14244         0.00           NaN        NaN    NaN  "
      ]
     },
     "execution_count": 11,
     "metadata": {},
     "output_type": "execute_result"
    }
   ],
   "source": [
    "data.loc[data['name'].isna()]"
   ]
  },
  {
   "cell_type": "markdown",
   "id": "5d7274a3",
   "metadata": {},
   "source": [
    "В этих же строках оказались пропуски в столбце `genre`, `critic_score`, `user_score`, `rating`"
   ]
  },
  {
   "cell_type": "markdown",
   "id": "51177137",
   "metadata": {},
   "source": [
    "Таких строк всего 2. Удалим их."
   ]
  },
  {
   "cell_type": "code",
   "execution_count": 12,
   "id": "822c52a0",
   "metadata": {},
   "outputs": [],
   "source": [
    "data = data.dropna(subset=['name'])"
   ]
  },
  {
   "cell_type": "markdown",
   "id": "bfb23465",
   "metadata": {},
   "source": [
    "Следующий столбец `year_of_release`"
   ]
  },
  {
   "cell_type": "code",
   "execution_count": 13,
   "id": "c2dd2a69",
   "metadata": {},
   "outputs": [
    {
     "data": {
      "text/html": [
       "<div>\n",
       "<style scoped>\n",
       "    .dataframe tbody tr th:only-of-type {\n",
       "        vertical-align: middle;\n",
       "    }\n",
       "\n",
       "    .dataframe tbody tr th {\n",
       "        vertical-align: top;\n",
       "    }\n",
       "\n",
       "    .dataframe thead th {\n",
       "        text-align: right;\n",
       "    }\n",
       "</style>\n",
       "<table border=\"1\" class=\"dataframe\">\n",
       "  <thead>\n",
       "    <tr style=\"text-align: right;\">\n",
       "      <th></th>\n",
       "      <th>name</th>\n",
       "      <th>platform</th>\n",
       "      <th>year_of_release</th>\n",
       "      <th>genre</th>\n",
       "      <th>na_sales</th>\n",
       "      <th>eu_sales</th>\n",
       "      <th>jp_sales</th>\n",
       "      <th>other_sales</th>\n",
       "      <th>critic_score</th>\n",
       "      <th>user_score</th>\n",
       "      <th>rating</th>\n",
       "    </tr>\n",
       "  </thead>\n",
       "  <tbody>\n",
       "    <tr>\n",
       "      <th>183</th>\n",
       "      <td>Madden NFL 2004</td>\n",
       "      <td>PS2</td>\n",
       "      <td>NaN</td>\n",
       "      <td>Sports</td>\n",
       "      <td>4.26</td>\n",
       "      <td>0.26</td>\n",
       "      <td>0.01</td>\n",
       "      <td>0.71</td>\n",
       "      <td>94.0</td>\n",
       "      <td>8.5</td>\n",
       "      <td>E</td>\n",
       "    </tr>\n",
       "    <tr>\n",
       "      <th>377</th>\n",
       "      <td>FIFA Soccer 2004</td>\n",
       "      <td>PS2</td>\n",
       "      <td>NaN</td>\n",
       "      <td>Sports</td>\n",
       "      <td>0.59</td>\n",
       "      <td>2.36</td>\n",
       "      <td>0.04</td>\n",
       "      <td>0.51</td>\n",
       "      <td>84.0</td>\n",
       "      <td>6.4</td>\n",
       "      <td>E</td>\n",
       "    </tr>\n",
       "    <tr>\n",
       "      <th>456</th>\n",
       "      <td>LEGO Batman: The Videogame</td>\n",
       "      <td>Wii</td>\n",
       "      <td>NaN</td>\n",
       "      <td>Action</td>\n",
       "      <td>1.80</td>\n",
       "      <td>0.97</td>\n",
       "      <td>0.00</td>\n",
       "      <td>0.29</td>\n",
       "      <td>74.0</td>\n",
       "      <td>7.9</td>\n",
       "      <td>E10+</td>\n",
       "    </tr>\n",
       "    <tr>\n",
       "      <th>475</th>\n",
       "      <td>wwe Smackdown vs. Raw 2006</td>\n",
       "      <td>PS2</td>\n",
       "      <td>NaN</td>\n",
       "      <td>Fighting</td>\n",
       "      <td>1.57</td>\n",
       "      <td>1.02</td>\n",
       "      <td>0.00</td>\n",
       "      <td>0.41</td>\n",
       "      <td>NaN</td>\n",
       "      <td>NaN</td>\n",
       "      <td>NaN</td>\n",
       "    </tr>\n",
       "    <tr>\n",
       "      <th>609</th>\n",
       "      <td>Space Invaders</td>\n",
       "      <td>2600</td>\n",
       "      <td>NaN</td>\n",
       "      <td>Shooter</td>\n",
       "      <td>2.36</td>\n",
       "      <td>0.14</td>\n",
       "      <td>0.00</td>\n",
       "      <td>0.03</td>\n",
       "      <td>NaN</td>\n",
       "      <td>NaN</td>\n",
       "      <td>NaN</td>\n",
       "    </tr>\n",
       "    <tr>\n",
       "      <th>...</th>\n",
       "      <td>...</td>\n",
       "      <td>...</td>\n",
       "      <td>...</td>\n",
       "      <td>...</td>\n",
       "      <td>...</td>\n",
       "      <td>...</td>\n",
       "      <td>...</td>\n",
       "      <td>...</td>\n",
       "      <td>...</td>\n",
       "      <td>...</td>\n",
       "      <td>...</td>\n",
       "    </tr>\n",
       "    <tr>\n",
       "      <th>16373</th>\n",
       "      <td>PDC World Championship Darts 2008</td>\n",
       "      <td>PSP</td>\n",
       "      <td>NaN</td>\n",
       "      <td>Sports</td>\n",
       "      <td>0.01</td>\n",
       "      <td>0.00</td>\n",
       "      <td>0.00</td>\n",
       "      <td>0.00</td>\n",
       "      <td>43.0</td>\n",
       "      <td>tbd</td>\n",
       "      <td>E10+</td>\n",
       "    </tr>\n",
       "    <tr>\n",
       "      <th>16405</th>\n",
       "      <td>Freaky Flyers</td>\n",
       "      <td>GC</td>\n",
       "      <td>NaN</td>\n",
       "      <td>Racing</td>\n",
       "      <td>0.01</td>\n",
       "      <td>0.00</td>\n",
       "      <td>0.00</td>\n",
       "      <td>0.00</td>\n",
       "      <td>69.0</td>\n",
       "      <td>6.5</td>\n",
       "      <td>T</td>\n",
       "    </tr>\n",
       "    <tr>\n",
       "      <th>16448</th>\n",
       "      <td>Inversion</td>\n",
       "      <td>PC</td>\n",
       "      <td>NaN</td>\n",
       "      <td>Shooter</td>\n",
       "      <td>0.01</td>\n",
       "      <td>0.00</td>\n",
       "      <td>0.00</td>\n",
       "      <td>0.00</td>\n",
       "      <td>59.0</td>\n",
       "      <td>6.7</td>\n",
       "      <td>M</td>\n",
       "    </tr>\n",
       "    <tr>\n",
       "      <th>16458</th>\n",
       "      <td>Hakuouki: Shinsengumi Kitan</td>\n",
       "      <td>PS3</td>\n",
       "      <td>NaN</td>\n",
       "      <td>Adventure</td>\n",
       "      <td>0.01</td>\n",
       "      <td>0.00</td>\n",
       "      <td>0.00</td>\n",
       "      <td>0.00</td>\n",
       "      <td>NaN</td>\n",
       "      <td>NaN</td>\n",
       "      <td>NaN</td>\n",
       "    </tr>\n",
       "    <tr>\n",
       "      <th>16522</th>\n",
       "      <td>Virtua Quest</td>\n",
       "      <td>GC</td>\n",
       "      <td>NaN</td>\n",
       "      <td>Role-Playing</td>\n",
       "      <td>0.01</td>\n",
       "      <td>0.00</td>\n",
       "      <td>0.00</td>\n",
       "      <td>0.00</td>\n",
       "      <td>55.0</td>\n",
       "      <td>5.5</td>\n",
       "      <td>T</td>\n",
       "    </tr>\n",
       "  </tbody>\n",
       "</table>\n",
       "<p>269 rows × 11 columns</p>\n",
       "</div>"
      ],
      "text/plain": [
       "                                    name platform  year_of_release  \\\n",
       "183                      Madden NFL 2004      PS2              NaN   \n",
       "377                     FIFA Soccer 2004      PS2              NaN   \n",
       "456           LEGO Batman: The Videogame      Wii              NaN   \n",
       "475           wwe Smackdown vs. Raw 2006      PS2              NaN   \n",
       "609                       Space Invaders     2600              NaN   \n",
       "...                                  ...      ...              ...   \n",
       "16373  PDC World Championship Darts 2008      PSP              NaN   \n",
       "16405                      Freaky Flyers       GC              NaN   \n",
       "16448                          Inversion       PC              NaN   \n",
       "16458        Hakuouki: Shinsengumi Kitan      PS3              NaN   \n",
       "16522                       Virtua Quest       GC              NaN   \n",
       "\n",
       "              genre  na_sales  eu_sales  jp_sales  other_sales  critic_score  \\\n",
       "183          Sports      4.26      0.26      0.01         0.71          94.0   \n",
       "377          Sports      0.59      2.36      0.04         0.51          84.0   \n",
       "456          Action      1.80      0.97      0.00         0.29          74.0   \n",
       "475        Fighting      1.57      1.02      0.00         0.41           NaN   \n",
       "609         Shooter      2.36      0.14      0.00         0.03           NaN   \n",
       "...             ...       ...       ...       ...          ...           ...   \n",
       "16373        Sports      0.01      0.00      0.00         0.00          43.0   \n",
       "16405        Racing      0.01      0.00      0.00         0.00          69.0   \n",
       "16448       Shooter      0.01      0.00      0.00         0.00          59.0   \n",
       "16458     Adventure      0.01      0.00      0.00         0.00           NaN   \n",
       "16522  Role-Playing      0.01      0.00      0.00         0.00          55.0   \n",
       "\n",
       "      user_score rating  \n",
       "183          8.5      E  \n",
       "377          6.4      E  \n",
       "456          7.9   E10+  \n",
       "475          NaN    NaN  \n",
       "609          NaN    NaN  \n",
       "...          ...    ...  \n",
       "16373        tbd   E10+  \n",
       "16405        6.5      T  \n",
       "16448        6.7      M  \n",
       "16458        NaN    NaN  \n",
       "16522        5.5      T  \n",
       "\n",
       "[269 rows x 11 columns]"
      ]
     },
     "execution_count": 13,
     "metadata": {},
     "output_type": "execute_result"
    }
   ],
   "source": [
    "data.loc[data['year_of_release'].isna()]"
   ]
  },
  {
   "cell_type": "markdown",
   "id": "19d6ccee",
   "metadata": {},
   "source": [
    "**Пропусков здесь всего 1%, поэтому удалим их.**"
   ]
  },
  {
   "cell_type": "code",
   "execution_count": 14,
   "id": "0e6a9521",
   "metadata": {},
   "outputs": [],
   "source": [
    "data = data.dropna(subset=['year_of_release'])"
   ]
  },
  {
   "cell_type": "markdown",
   "id": "eeaab3ca",
   "metadata": {},
   "source": [
    "Следующий столбец с пропусками `critic_score`"
   ]
  },
  {
   "cell_type": "code",
   "execution_count": 15,
   "id": "19c5bbe9",
   "metadata": {},
   "outputs": [
    {
     "data": {
      "text/html": [
       "<div>\n",
       "<style scoped>\n",
       "    .dataframe tbody tr th:only-of-type {\n",
       "        vertical-align: middle;\n",
       "    }\n",
       "\n",
       "    .dataframe tbody tr th {\n",
       "        vertical-align: top;\n",
       "    }\n",
       "\n",
       "    .dataframe thead th {\n",
       "        text-align: right;\n",
       "    }\n",
       "</style>\n",
       "<table border=\"1\" class=\"dataframe\">\n",
       "  <thead>\n",
       "    <tr style=\"text-align: right;\">\n",
       "      <th></th>\n",
       "      <th>name</th>\n",
       "      <th>platform</th>\n",
       "      <th>year_of_release</th>\n",
       "      <th>genre</th>\n",
       "      <th>na_sales</th>\n",
       "      <th>eu_sales</th>\n",
       "      <th>jp_sales</th>\n",
       "      <th>other_sales</th>\n",
       "      <th>critic_score</th>\n",
       "      <th>user_score</th>\n",
       "      <th>rating</th>\n",
       "    </tr>\n",
       "  </thead>\n",
       "  <tbody>\n",
       "    <tr>\n",
       "      <th>1</th>\n",
       "      <td>Super Mario Bros.</td>\n",
       "      <td>NES</td>\n",
       "      <td>1985.0</td>\n",
       "      <td>Platform</td>\n",
       "      <td>29.08</td>\n",
       "      <td>3.58</td>\n",
       "      <td>6.81</td>\n",
       "      <td>0.77</td>\n",
       "      <td>NaN</td>\n",
       "      <td>NaN</td>\n",
       "      <td>NaN</td>\n",
       "    </tr>\n",
       "    <tr>\n",
       "      <th>4</th>\n",
       "      <td>Pokemon Red/Pokemon Blue</td>\n",
       "      <td>GB</td>\n",
       "      <td>1996.0</td>\n",
       "      <td>Role-Playing</td>\n",
       "      <td>11.27</td>\n",
       "      <td>8.89</td>\n",
       "      <td>10.22</td>\n",
       "      <td>1.00</td>\n",
       "      <td>NaN</td>\n",
       "      <td>NaN</td>\n",
       "      <td>NaN</td>\n",
       "    </tr>\n",
       "    <tr>\n",
       "      <th>5</th>\n",
       "      <td>Tetris</td>\n",
       "      <td>GB</td>\n",
       "      <td>1989.0</td>\n",
       "      <td>Puzzle</td>\n",
       "      <td>23.20</td>\n",
       "      <td>2.26</td>\n",
       "      <td>4.22</td>\n",
       "      <td>0.58</td>\n",
       "      <td>NaN</td>\n",
       "      <td>NaN</td>\n",
       "      <td>NaN</td>\n",
       "    </tr>\n",
       "    <tr>\n",
       "      <th>9</th>\n",
       "      <td>Duck Hunt</td>\n",
       "      <td>NES</td>\n",
       "      <td>1984.0</td>\n",
       "      <td>Shooter</td>\n",
       "      <td>26.93</td>\n",
       "      <td>0.63</td>\n",
       "      <td>0.28</td>\n",
       "      <td>0.47</td>\n",
       "      <td>NaN</td>\n",
       "      <td>NaN</td>\n",
       "      <td>NaN</td>\n",
       "    </tr>\n",
       "    <tr>\n",
       "      <th>10</th>\n",
       "      <td>Nintendogs</td>\n",
       "      <td>DS</td>\n",
       "      <td>2005.0</td>\n",
       "      <td>Simulation</td>\n",
       "      <td>9.05</td>\n",
       "      <td>10.95</td>\n",
       "      <td>1.93</td>\n",
       "      <td>2.74</td>\n",
       "      <td>NaN</td>\n",
       "      <td>NaN</td>\n",
       "      <td>NaN</td>\n",
       "    </tr>\n",
       "    <tr>\n",
       "      <th>...</th>\n",
       "      <td>...</td>\n",
       "      <td>...</td>\n",
       "      <td>...</td>\n",
       "      <td>...</td>\n",
       "      <td>...</td>\n",
       "      <td>...</td>\n",
       "      <td>...</td>\n",
       "      <td>...</td>\n",
       "      <td>...</td>\n",
       "      <td>...</td>\n",
       "      <td>...</td>\n",
       "    </tr>\n",
       "    <tr>\n",
       "      <th>16710</th>\n",
       "      <td>Samurai Warriors: Sanada Maru</td>\n",
       "      <td>PS3</td>\n",
       "      <td>2016.0</td>\n",
       "      <td>Action</td>\n",
       "      <td>0.00</td>\n",
       "      <td>0.00</td>\n",
       "      <td>0.01</td>\n",
       "      <td>0.00</td>\n",
       "      <td>NaN</td>\n",
       "      <td>NaN</td>\n",
       "      <td>NaN</td>\n",
       "    </tr>\n",
       "    <tr>\n",
       "      <th>16711</th>\n",
       "      <td>LMA Manager 2007</td>\n",
       "      <td>X360</td>\n",
       "      <td>2006.0</td>\n",
       "      <td>Sports</td>\n",
       "      <td>0.00</td>\n",
       "      <td>0.01</td>\n",
       "      <td>0.00</td>\n",
       "      <td>0.00</td>\n",
       "      <td>NaN</td>\n",
       "      <td>NaN</td>\n",
       "      <td>NaN</td>\n",
       "    </tr>\n",
       "    <tr>\n",
       "      <th>16712</th>\n",
       "      <td>Haitaka no Psychedelica</td>\n",
       "      <td>PSV</td>\n",
       "      <td>2016.0</td>\n",
       "      <td>Adventure</td>\n",
       "      <td>0.00</td>\n",
       "      <td>0.00</td>\n",
       "      <td>0.01</td>\n",
       "      <td>0.00</td>\n",
       "      <td>NaN</td>\n",
       "      <td>NaN</td>\n",
       "      <td>NaN</td>\n",
       "    </tr>\n",
       "    <tr>\n",
       "      <th>16713</th>\n",
       "      <td>Spirits &amp; Spells</td>\n",
       "      <td>GBA</td>\n",
       "      <td>2003.0</td>\n",
       "      <td>Platform</td>\n",
       "      <td>0.01</td>\n",
       "      <td>0.00</td>\n",
       "      <td>0.00</td>\n",
       "      <td>0.00</td>\n",
       "      <td>NaN</td>\n",
       "      <td>NaN</td>\n",
       "      <td>NaN</td>\n",
       "    </tr>\n",
       "    <tr>\n",
       "      <th>16714</th>\n",
       "      <td>Winning Post 8 2016</td>\n",
       "      <td>PSV</td>\n",
       "      <td>2016.0</td>\n",
       "      <td>Simulation</td>\n",
       "      <td>0.00</td>\n",
       "      <td>0.00</td>\n",
       "      <td>0.01</td>\n",
       "      <td>0.00</td>\n",
       "      <td>NaN</td>\n",
       "      <td>NaN</td>\n",
       "      <td>NaN</td>\n",
       "    </tr>\n",
       "  </tbody>\n",
       "</table>\n",
       "<p>8461 rows × 11 columns</p>\n",
       "</div>"
      ],
      "text/plain": [
       "                                name platform  year_of_release         genre  \\\n",
       "1                  Super Mario Bros.      NES           1985.0      Platform   \n",
       "4           Pokemon Red/Pokemon Blue       GB           1996.0  Role-Playing   \n",
       "5                             Tetris       GB           1989.0        Puzzle   \n",
       "9                          Duck Hunt      NES           1984.0       Shooter   \n",
       "10                        Nintendogs       DS           2005.0    Simulation   \n",
       "...                              ...      ...              ...           ...   \n",
       "16710  Samurai Warriors: Sanada Maru      PS3           2016.0        Action   \n",
       "16711               LMA Manager 2007     X360           2006.0        Sports   \n",
       "16712        Haitaka no Psychedelica      PSV           2016.0     Adventure   \n",
       "16713               Spirits & Spells      GBA           2003.0      Platform   \n",
       "16714            Winning Post 8 2016      PSV           2016.0    Simulation   \n",
       "\n",
       "       na_sales  eu_sales  jp_sales  other_sales  critic_score user_score  \\\n",
       "1         29.08      3.58      6.81         0.77           NaN        NaN   \n",
       "4         11.27      8.89     10.22         1.00           NaN        NaN   \n",
       "5         23.20      2.26      4.22         0.58           NaN        NaN   \n",
       "9         26.93      0.63      0.28         0.47           NaN        NaN   \n",
       "10         9.05     10.95      1.93         2.74           NaN        NaN   \n",
       "...         ...       ...       ...          ...           ...        ...   \n",
       "16710      0.00      0.00      0.01         0.00           NaN        NaN   \n",
       "16711      0.00      0.01      0.00         0.00           NaN        NaN   \n",
       "16712      0.00      0.00      0.01         0.00           NaN        NaN   \n",
       "16713      0.01      0.00      0.00         0.00           NaN        NaN   \n",
       "16714      0.00      0.00      0.01         0.00           NaN        NaN   \n",
       "\n",
       "      rating  \n",
       "1        NaN  \n",
       "4        NaN  \n",
       "5        NaN  \n",
       "9        NaN  \n",
       "10       NaN  \n",
       "...      ...  \n",
       "16710    NaN  \n",
       "16711    NaN  \n",
       "16712    NaN  \n",
       "16713    NaN  \n",
       "16714    NaN  \n",
       "\n",
       "[8461 rows x 11 columns]"
      ]
     },
     "execution_count": 15,
     "metadata": {},
     "output_type": "execute_result"
    }
   ],
   "source": [
    "data.loc[data['critic_score'].isna()]"
   ]
  },
  {
   "cell_type": "markdown",
   "id": "f587276b",
   "metadata": {},
   "source": [
    "**Пропуски убирать не будем, так как их почти половина от общего количества, данные могут исказить дальнейший анализ.**"
   ]
  },
  {
   "cell_type": "markdown",
   "id": "df54526c",
   "metadata": {},
   "source": [
    "Следующий столбец пропусками - `user_score`"
   ]
  },
  {
   "cell_type": "code",
   "execution_count": 16,
   "id": "8af5d26b",
   "metadata": {},
   "outputs": [
    {
     "data": {
      "text/plain": [
       "array(['8', nan, '8.3', '8.5', '6.6', '8.4', '8.6', '7.7', '6.3', '7.4',\n",
       "       '8.2', '9', '7.9', '8.1', '8.7', '7.1', '3.4', '5.3', '4.8', '3.2',\n",
       "       '8.9', '6.4', '7.8', '7.5', '2.6', '7.2', '9.2', '7', '7.3', '4.3',\n",
       "       '7.6', '5.7', '5', '9.1', '6.5', 'tbd', '8.8', '6.9', '9.4', '6.8',\n",
       "       '6.1', '6.7', '5.4', '4', '4.9', '4.5', '9.3', '6.2', '4.2', '6',\n",
       "       '3.7', '4.1', '5.8', '5.6', '5.5', '4.4', '4.6', '5.9', '3.9',\n",
       "       '3.1', '2.9', '5.2', '3.3', '4.7', '5.1', '3.5', '2.5', '1.9', '3',\n",
       "       '2.7', '2.2', '2', '9.5', '2.1', '3.6', '2.8', '1.8', '3.8', '0',\n",
       "       '1.6', '9.6', '2.4', '1.7', '1.1', '0.3', '1.5', '0.7', '1.2',\n",
       "       '2.3', '0.5', '1.3', '0.2', '0.6', '1.4', '0.9', '1', '9.7'],\n",
       "      dtype=object)"
      ]
     },
     "execution_count": 16,
     "metadata": {},
     "output_type": "execute_result"
    }
   ],
   "source": [
    "data['user_score'].unique()"
   ]
  },
  {
   "cell_type": "markdown",
   "id": "6a4a6f5d",
   "metadata": {},
   "source": [
    "В уникальных значениях столбца видим `tbd`, что означает *To be determined* (будет определено позже)"
   ]
  },
  {
   "cell_type": "markdown",
   "id": "e4beb24e",
   "metadata": {},
   "source": [
    "Такую аббревиатуру заменить нулями некорректно, так как есть такая оценка, как 0. Пропуски в данном столбце убирать не будем по той же причине, но аббревиатуру заменим на `nan`"
   ]
  },
  {
   "cell_type": "code",
   "execution_count": 17,
   "id": "40ec32bc",
   "metadata": {},
   "outputs": [],
   "source": [
    "data.loc[data['user_score'] == 'tbd', 'user_score'] = np.nan"
   ]
  },
  {
   "cell_type": "code",
   "execution_count": 18,
   "id": "60ff8d4e",
   "metadata": {},
   "outputs": [
    {
     "data": {
      "text/plain": [
       "array(['8', nan, '8.3', '8.5', '6.6', '8.4', '8.6', '7.7', '6.3', '7.4',\n",
       "       '8.2', '9', '7.9', '8.1', '8.7', '7.1', '3.4', '5.3', '4.8', '3.2',\n",
       "       '8.9', '6.4', '7.8', '7.5', '2.6', '7.2', '9.2', '7', '7.3', '4.3',\n",
       "       '7.6', '5.7', '5', '9.1', '6.5', '8.8', '6.9', '9.4', '6.8', '6.1',\n",
       "       '6.7', '5.4', '4', '4.9', '4.5', '9.3', '6.2', '4.2', '6', '3.7',\n",
       "       '4.1', '5.8', '5.6', '5.5', '4.4', '4.6', '5.9', '3.9', '3.1',\n",
       "       '2.9', '5.2', '3.3', '4.7', '5.1', '3.5', '2.5', '1.9', '3', '2.7',\n",
       "       '2.2', '2', '9.5', '2.1', '3.6', '2.8', '1.8', '3.8', '0', '1.6',\n",
       "       '9.6', '2.4', '1.7', '1.1', '0.3', '1.5', '0.7', '1.2', '2.3',\n",
       "       '0.5', '1.3', '0.2', '0.6', '1.4', '0.9', '1', '9.7'], dtype=object)"
      ]
     },
     "execution_count": 18,
     "metadata": {},
     "output_type": "execute_result"
    }
   ],
   "source": [
    "data['user_score'].unique()"
   ]
  },
  {
   "cell_type": "markdown",
   "id": "cf37574e",
   "metadata": {},
   "source": [
    "От аббревиатуры избавились."
   ]
  },
  {
   "cell_type": "markdown",
   "id": "05785b1e",
   "metadata": {},
   "source": [
    "Далее столбец `rating`"
   ]
  },
  {
   "cell_type": "code",
   "execution_count": 19,
   "id": "19dcbf05",
   "metadata": {},
   "outputs": [
    {
     "data": {
      "text/plain": [
       "array(['E', nan, 'M', 'T', 'E10+', 'K-A', 'AO', 'EC', 'RP'], dtype=object)"
      ]
     },
     "execution_count": 19,
     "metadata": {},
     "output_type": "execute_result"
    }
   ],
   "source": [
    "data['rating'].unique()"
   ]
  },
  {
   "cell_type": "code",
   "execution_count": 20,
   "id": "d1962fe1",
   "metadata": {},
   "outputs": [
    {
     "data": {
      "text/html": [
       "<div>\n",
       "<style scoped>\n",
       "    .dataframe tbody tr th:only-of-type {\n",
       "        vertical-align: middle;\n",
       "    }\n",
       "\n",
       "    .dataframe tbody tr th {\n",
       "        vertical-align: top;\n",
       "    }\n",
       "\n",
       "    .dataframe thead th {\n",
       "        text-align: right;\n",
       "    }\n",
       "</style>\n",
       "<table border=\"1\" class=\"dataframe\">\n",
       "  <thead>\n",
       "    <tr style=\"text-align: right;\">\n",
       "      <th></th>\n",
       "      <th>name</th>\n",
       "      <th>platform</th>\n",
       "      <th>year_of_release</th>\n",
       "      <th>genre</th>\n",
       "      <th>na_sales</th>\n",
       "      <th>eu_sales</th>\n",
       "      <th>jp_sales</th>\n",
       "      <th>other_sales</th>\n",
       "      <th>critic_score</th>\n",
       "      <th>user_score</th>\n",
       "      <th>rating</th>\n",
       "    </tr>\n",
       "  </thead>\n",
       "  <tbody>\n",
       "    <tr>\n",
       "      <th>1</th>\n",
       "      <td>Super Mario Bros.</td>\n",
       "      <td>NES</td>\n",
       "      <td>1985.0</td>\n",
       "      <td>Platform</td>\n",
       "      <td>29.08</td>\n",
       "      <td>3.58</td>\n",
       "      <td>6.81</td>\n",
       "      <td>0.77</td>\n",
       "      <td>NaN</td>\n",
       "      <td>NaN</td>\n",
       "      <td>NaN</td>\n",
       "    </tr>\n",
       "    <tr>\n",
       "      <th>4</th>\n",
       "      <td>Pokemon Red/Pokemon Blue</td>\n",
       "      <td>GB</td>\n",
       "      <td>1996.0</td>\n",
       "      <td>Role-Playing</td>\n",
       "      <td>11.27</td>\n",
       "      <td>8.89</td>\n",
       "      <td>10.22</td>\n",
       "      <td>1.00</td>\n",
       "      <td>NaN</td>\n",
       "      <td>NaN</td>\n",
       "      <td>NaN</td>\n",
       "    </tr>\n",
       "    <tr>\n",
       "      <th>5</th>\n",
       "      <td>Tetris</td>\n",
       "      <td>GB</td>\n",
       "      <td>1989.0</td>\n",
       "      <td>Puzzle</td>\n",
       "      <td>23.20</td>\n",
       "      <td>2.26</td>\n",
       "      <td>4.22</td>\n",
       "      <td>0.58</td>\n",
       "      <td>NaN</td>\n",
       "      <td>NaN</td>\n",
       "      <td>NaN</td>\n",
       "    </tr>\n",
       "    <tr>\n",
       "      <th>9</th>\n",
       "      <td>Duck Hunt</td>\n",
       "      <td>NES</td>\n",
       "      <td>1984.0</td>\n",
       "      <td>Shooter</td>\n",
       "      <td>26.93</td>\n",
       "      <td>0.63</td>\n",
       "      <td>0.28</td>\n",
       "      <td>0.47</td>\n",
       "      <td>NaN</td>\n",
       "      <td>NaN</td>\n",
       "      <td>NaN</td>\n",
       "    </tr>\n",
       "    <tr>\n",
       "      <th>10</th>\n",
       "      <td>Nintendogs</td>\n",
       "      <td>DS</td>\n",
       "      <td>2005.0</td>\n",
       "      <td>Simulation</td>\n",
       "      <td>9.05</td>\n",
       "      <td>10.95</td>\n",
       "      <td>1.93</td>\n",
       "      <td>2.74</td>\n",
       "      <td>NaN</td>\n",
       "      <td>NaN</td>\n",
       "      <td>NaN</td>\n",
       "    </tr>\n",
       "    <tr>\n",
       "      <th>...</th>\n",
       "      <td>...</td>\n",
       "      <td>...</td>\n",
       "      <td>...</td>\n",
       "      <td>...</td>\n",
       "      <td>...</td>\n",
       "      <td>...</td>\n",
       "      <td>...</td>\n",
       "      <td>...</td>\n",
       "      <td>...</td>\n",
       "      <td>...</td>\n",
       "      <td>...</td>\n",
       "    </tr>\n",
       "    <tr>\n",
       "      <th>16710</th>\n",
       "      <td>Samurai Warriors: Sanada Maru</td>\n",
       "      <td>PS3</td>\n",
       "      <td>2016.0</td>\n",
       "      <td>Action</td>\n",
       "      <td>0.00</td>\n",
       "      <td>0.00</td>\n",
       "      <td>0.01</td>\n",
       "      <td>0.00</td>\n",
       "      <td>NaN</td>\n",
       "      <td>NaN</td>\n",
       "      <td>NaN</td>\n",
       "    </tr>\n",
       "    <tr>\n",
       "      <th>16711</th>\n",
       "      <td>LMA Manager 2007</td>\n",
       "      <td>X360</td>\n",
       "      <td>2006.0</td>\n",
       "      <td>Sports</td>\n",
       "      <td>0.00</td>\n",
       "      <td>0.01</td>\n",
       "      <td>0.00</td>\n",
       "      <td>0.00</td>\n",
       "      <td>NaN</td>\n",
       "      <td>NaN</td>\n",
       "      <td>NaN</td>\n",
       "    </tr>\n",
       "    <tr>\n",
       "      <th>16712</th>\n",
       "      <td>Haitaka no Psychedelica</td>\n",
       "      <td>PSV</td>\n",
       "      <td>2016.0</td>\n",
       "      <td>Adventure</td>\n",
       "      <td>0.00</td>\n",
       "      <td>0.00</td>\n",
       "      <td>0.01</td>\n",
       "      <td>0.00</td>\n",
       "      <td>NaN</td>\n",
       "      <td>NaN</td>\n",
       "      <td>NaN</td>\n",
       "    </tr>\n",
       "    <tr>\n",
       "      <th>16713</th>\n",
       "      <td>Spirits &amp; Spells</td>\n",
       "      <td>GBA</td>\n",
       "      <td>2003.0</td>\n",
       "      <td>Platform</td>\n",
       "      <td>0.01</td>\n",
       "      <td>0.00</td>\n",
       "      <td>0.00</td>\n",
       "      <td>0.00</td>\n",
       "      <td>NaN</td>\n",
       "      <td>NaN</td>\n",
       "      <td>NaN</td>\n",
       "    </tr>\n",
       "    <tr>\n",
       "      <th>16714</th>\n",
       "      <td>Winning Post 8 2016</td>\n",
       "      <td>PSV</td>\n",
       "      <td>2016.0</td>\n",
       "      <td>Simulation</td>\n",
       "      <td>0.00</td>\n",
       "      <td>0.00</td>\n",
       "      <td>0.01</td>\n",
       "      <td>0.00</td>\n",
       "      <td>NaN</td>\n",
       "      <td>NaN</td>\n",
       "      <td>NaN</td>\n",
       "    </tr>\n",
       "  </tbody>\n",
       "</table>\n",
       "<p>6676 rows × 11 columns</p>\n",
       "</div>"
      ],
      "text/plain": [
       "                                name platform  year_of_release         genre  \\\n",
       "1                  Super Mario Bros.      NES           1985.0      Platform   \n",
       "4           Pokemon Red/Pokemon Blue       GB           1996.0  Role-Playing   \n",
       "5                             Tetris       GB           1989.0        Puzzle   \n",
       "9                          Duck Hunt      NES           1984.0       Shooter   \n",
       "10                        Nintendogs       DS           2005.0    Simulation   \n",
       "...                              ...      ...              ...           ...   \n",
       "16710  Samurai Warriors: Sanada Maru      PS3           2016.0        Action   \n",
       "16711               LMA Manager 2007     X360           2006.0        Sports   \n",
       "16712        Haitaka no Psychedelica      PSV           2016.0     Adventure   \n",
       "16713               Spirits & Spells      GBA           2003.0      Platform   \n",
       "16714            Winning Post 8 2016      PSV           2016.0    Simulation   \n",
       "\n",
       "       na_sales  eu_sales  jp_sales  other_sales  critic_score user_score  \\\n",
       "1         29.08      3.58      6.81         0.77           NaN        NaN   \n",
       "4         11.27      8.89     10.22         1.00           NaN        NaN   \n",
       "5         23.20      2.26      4.22         0.58           NaN        NaN   \n",
       "9         26.93      0.63      0.28         0.47           NaN        NaN   \n",
       "10         9.05     10.95      1.93         2.74           NaN        NaN   \n",
       "...         ...       ...       ...          ...           ...        ...   \n",
       "16710      0.00      0.00      0.01         0.00           NaN        NaN   \n",
       "16711      0.00      0.01      0.00         0.00           NaN        NaN   \n",
       "16712      0.00      0.00      0.01         0.00           NaN        NaN   \n",
       "16713      0.01      0.00      0.00         0.00           NaN        NaN   \n",
       "16714      0.00      0.00      0.01         0.00           NaN        NaN   \n",
       "\n",
       "      rating  \n",
       "1        NaN  \n",
       "4        NaN  \n",
       "5        NaN  \n",
       "9        NaN  \n",
       "10       NaN  \n",
       "...      ...  \n",
       "16710    NaN  \n",
       "16711    NaN  \n",
       "16712    NaN  \n",
       "16713    NaN  \n",
       "16714    NaN  \n",
       "\n",
       "[6676 rows x 11 columns]"
      ]
     },
     "execution_count": 20,
     "metadata": {},
     "output_type": "execute_result"
    }
   ],
   "source": [
    "data.loc[data['rating'].isna()]"
   ]
  },
  {
   "cell_type": "code",
   "execution_count": 21,
   "id": "69c3ba90",
   "metadata": {},
   "outputs": [
    {
     "data": {
      "text/plain": [
       "name                  0\n",
       "platform              0\n",
       "year_of_release       0\n",
       "genre                 0\n",
       "na_sales              0\n",
       "eu_sales              0\n",
       "jp_sales              0\n",
       "other_sales           0\n",
       "critic_score       8461\n",
       "user_score         8981\n",
       "rating                0\n",
       "dtype: int64"
      ]
     },
     "execution_count": 21,
     "metadata": {},
     "output_type": "execute_result"
    }
   ],
   "source": [
    "data.loc[data['rating'].isna(), 'rating'] = 'Unknown'\n",
    "data.isna().sum()"
   ]
  },
  {
   "cell_type": "markdown",
   "id": "b233ebca",
   "metadata": {},
   "source": [
    "Заменили пропуски в столбце `rating` на *Unknown*"
   ]
  },
  {
   "cell_type": "markdown",
   "id": "a0eb7215",
   "metadata": {},
   "source": [
    "**Добавим новый столбец `sum_sales` - сумму всех продаж**"
   ]
  },
  {
   "cell_type": "code",
   "execution_count": 22,
   "id": "d1846097",
   "metadata": {},
   "outputs": [],
   "source": [
    "data['sum_sales'] = data['na_sales'] + data['eu_sales'] + data['jp_sales'] + data['other_sales']"
   ]
  },
  {
   "cell_type": "code",
   "execution_count": 23,
   "id": "7b728b83",
   "metadata": {},
   "outputs": [
    {
     "data": {
      "text/html": [
       "<div>\n",
       "<style scoped>\n",
       "    .dataframe tbody tr th:only-of-type {\n",
       "        vertical-align: middle;\n",
       "    }\n",
       "\n",
       "    .dataframe tbody tr th {\n",
       "        vertical-align: top;\n",
       "    }\n",
       "\n",
       "    .dataframe thead th {\n",
       "        text-align: right;\n",
       "    }\n",
       "</style>\n",
       "<table border=\"1\" class=\"dataframe\">\n",
       "  <thead>\n",
       "    <tr style=\"text-align: right;\">\n",
       "      <th></th>\n",
       "      <th>name</th>\n",
       "      <th>platform</th>\n",
       "      <th>year_of_release</th>\n",
       "      <th>genre</th>\n",
       "      <th>na_sales</th>\n",
       "      <th>eu_sales</th>\n",
       "      <th>jp_sales</th>\n",
       "      <th>other_sales</th>\n",
       "      <th>critic_score</th>\n",
       "      <th>user_score</th>\n",
       "      <th>rating</th>\n",
       "      <th>sum_sales</th>\n",
       "    </tr>\n",
       "  </thead>\n",
       "  <tbody>\n",
       "    <tr>\n",
       "      <th>0</th>\n",
       "      <td>Wii Sports</td>\n",
       "      <td>Wii</td>\n",
       "      <td>2006.0</td>\n",
       "      <td>Sports</td>\n",
       "      <td>41.36</td>\n",
       "      <td>28.96</td>\n",
       "      <td>3.77</td>\n",
       "      <td>8.45</td>\n",
       "      <td>76.0</td>\n",
       "      <td>8</td>\n",
       "      <td>E</td>\n",
       "      <td>82.54</td>\n",
       "    </tr>\n",
       "    <tr>\n",
       "      <th>1</th>\n",
       "      <td>Super Mario Bros.</td>\n",
       "      <td>NES</td>\n",
       "      <td>1985.0</td>\n",
       "      <td>Platform</td>\n",
       "      <td>29.08</td>\n",
       "      <td>3.58</td>\n",
       "      <td>6.81</td>\n",
       "      <td>0.77</td>\n",
       "      <td>NaN</td>\n",
       "      <td>NaN</td>\n",
       "      <td>Unknown</td>\n",
       "      <td>40.24</td>\n",
       "    </tr>\n",
       "    <tr>\n",
       "      <th>2</th>\n",
       "      <td>Mario Kart Wii</td>\n",
       "      <td>Wii</td>\n",
       "      <td>2008.0</td>\n",
       "      <td>Racing</td>\n",
       "      <td>15.68</td>\n",
       "      <td>12.76</td>\n",
       "      <td>3.79</td>\n",
       "      <td>3.29</td>\n",
       "      <td>82.0</td>\n",
       "      <td>8.3</td>\n",
       "      <td>E</td>\n",
       "      <td>35.52</td>\n",
       "    </tr>\n",
       "    <tr>\n",
       "      <th>3</th>\n",
       "      <td>Wii Sports Resort</td>\n",
       "      <td>Wii</td>\n",
       "      <td>2009.0</td>\n",
       "      <td>Sports</td>\n",
       "      <td>15.61</td>\n",
       "      <td>10.93</td>\n",
       "      <td>3.28</td>\n",
       "      <td>2.95</td>\n",
       "      <td>80.0</td>\n",
       "      <td>8</td>\n",
       "      <td>E</td>\n",
       "      <td>32.77</td>\n",
       "    </tr>\n",
       "    <tr>\n",
       "      <th>4</th>\n",
       "      <td>Pokemon Red/Pokemon Blue</td>\n",
       "      <td>GB</td>\n",
       "      <td>1996.0</td>\n",
       "      <td>Role-Playing</td>\n",
       "      <td>11.27</td>\n",
       "      <td>8.89</td>\n",
       "      <td>10.22</td>\n",
       "      <td>1.00</td>\n",
       "      <td>NaN</td>\n",
       "      <td>NaN</td>\n",
       "      <td>Unknown</td>\n",
       "      <td>31.38</td>\n",
       "    </tr>\n",
       "    <tr>\n",
       "      <th>5</th>\n",
       "      <td>Tetris</td>\n",
       "      <td>GB</td>\n",
       "      <td>1989.0</td>\n",
       "      <td>Puzzle</td>\n",
       "      <td>23.20</td>\n",
       "      <td>2.26</td>\n",
       "      <td>4.22</td>\n",
       "      <td>0.58</td>\n",
       "      <td>NaN</td>\n",
       "      <td>NaN</td>\n",
       "      <td>Unknown</td>\n",
       "      <td>30.26</td>\n",
       "    </tr>\n",
       "    <tr>\n",
       "      <th>6</th>\n",
       "      <td>New Super Mario Bros.</td>\n",
       "      <td>DS</td>\n",
       "      <td>2006.0</td>\n",
       "      <td>Platform</td>\n",
       "      <td>11.28</td>\n",
       "      <td>9.14</td>\n",
       "      <td>6.50</td>\n",
       "      <td>2.88</td>\n",
       "      <td>89.0</td>\n",
       "      <td>8.5</td>\n",
       "      <td>E</td>\n",
       "      <td>29.80</td>\n",
       "    </tr>\n",
       "    <tr>\n",
       "      <th>7</th>\n",
       "      <td>Wii Play</td>\n",
       "      <td>Wii</td>\n",
       "      <td>2006.0</td>\n",
       "      <td>Misc</td>\n",
       "      <td>13.96</td>\n",
       "      <td>9.18</td>\n",
       "      <td>2.93</td>\n",
       "      <td>2.84</td>\n",
       "      <td>58.0</td>\n",
       "      <td>6.6</td>\n",
       "      <td>E</td>\n",
       "      <td>28.91</td>\n",
       "    </tr>\n",
       "    <tr>\n",
       "      <th>8</th>\n",
       "      <td>New Super Mario Bros. Wii</td>\n",
       "      <td>Wii</td>\n",
       "      <td>2009.0</td>\n",
       "      <td>Platform</td>\n",
       "      <td>14.44</td>\n",
       "      <td>6.94</td>\n",
       "      <td>4.70</td>\n",
       "      <td>2.24</td>\n",
       "      <td>87.0</td>\n",
       "      <td>8.4</td>\n",
       "      <td>E</td>\n",
       "      <td>28.32</td>\n",
       "    </tr>\n",
       "    <tr>\n",
       "      <th>9</th>\n",
       "      <td>Duck Hunt</td>\n",
       "      <td>NES</td>\n",
       "      <td>1984.0</td>\n",
       "      <td>Shooter</td>\n",
       "      <td>26.93</td>\n",
       "      <td>0.63</td>\n",
       "      <td>0.28</td>\n",
       "      <td>0.47</td>\n",
       "      <td>NaN</td>\n",
       "      <td>NaN</td>\n",
       "      <td>Unknown</td>\n",
       "      <td>28.31</td>\n",
       "    </tr>\n",
       "  </tbody>\n",
       "</table>\n",
       "</div>"
      ],
      "text/plain": [
       "                        name platform  year_of_release         genre  \\\n",
       "0                 Wii Sports      Wii           2006.0        Sports   \n",
       "1          Super Mario Bros.      NES           1985.0      Platform   \n",
       "2             Mario Kart Wii      Wii           2008.0        Racing   \n",
       "3          Wii Sports Resort      Wii           2009.0        Sports   \n",
       "4   Pokemon Red/Pokemon Blue       GB           1996.0  Role-Playing   \n",
       "5                     Tetris       GB           1989.0        Puzzle   \n",
       "6      New Super Mario Bros.       DS           2006.0      Platform   \n",
       "7                   Wii Play      Wii           2006.0          Misc   \n",
       "8  New Super Mario Bros. Wii      Wii           2009.0      Platform   \n",
       "9                  Duck Hunt      NES           1984.0       Shooter   \n",
       "\n",
       "   na_sales  eu_sales  jp_sales  other_sales  critic_score user_score  \\\n",
       "0     41.36     28.96      3.77         8.45          76.0          8   \n",
       "1     29.08      3.58      6.81         0.77           NaN        NaN   \n",
       "2     15.68     12.76      3.79         3.29          82.0        8.3   \n",
       "3     15.61     10.93      3.28         2.95          80.0          8   \n",
       "4     11.27      8.89     10.22         1.00           NaN        NaN   \n",
       "5     23.20      2.26      4.22         0.58           NaN        NaN   \n",
       "6     11.28      9.14      6.50         2.88          89.0        8.5   \n",
       "7     13.96      9.18      2.93         2.84          58.0        6.6   \n",
       "8     14.44      6.94      4.70         2.24          87.0        8.4   \n",
       "9     26.93      0.63      0.28         0.47           NaN        NaN   \n",
       "\n",
       "    rating  sum_sales  \n",
       "0        E      82.54  \n",
       "1  Unknown      40.24  \n",
       "2        E      35.52  \n",
       "3        E      32.77  \n",
       "4  Unknown      31.38  \n",
       "5  Unknown      30.26  \n",
       "6        E      29.80  \n",
       "7        E      28.91  \n",
       "8        E      28.32  \n",
       "9  Unknown      28.31  "
      ]
     },
     "execution_count": 23,
     "metadata": {},
     "output_type": "execute_result"
    }
   ],
   "source": [
    "data.head(10)"
   ]
  },
  {
   "cell_type": "markdown",
   "id": "f87c3534",
   "metadata": {},
   "source": [
    "**Изменим типы данных**"
   ]
  },
  {
   "cell_type": "code",
   "execution_count": 24,
   "id": "4246f93a",
   "metadata": {},
   "outputs": [
    {
     "name": "stdout",
     "output_type": "stream",
     "text": [
      "<class 'pandas.core.frame.DataFrame'>\n",
      "Int64Index: 16444 entries, 0 to 16714\n",
      "Data columns (total 12 columns):\n",
      " #   Column           Non-Null Count  Dtype  \n",
      "---  ------           --------------  -----  \n",
      " 0   name             16444 non-null  object \n",
      " 1   platform         16444 non-null  object \n",
      " 2   year_of_release  16444 non-null  float64\n",
      " 3   genre            16444 non-null  object \n",
      " 4   na_sales         16444 non-null  float64\n",
      " 5   eu_sales         16444 non-null  float64\n",
      " 6   jp_sales         16444 non-null  float64\n",
      " 7   other_sales      16444 non-null  float64\n",
      " 8   critic_score     7983 non-null   float64\n",
      " 9   user_score       7463 non-null   object \n",
      " 10  rating           16444 non-null  object \n",
      " 11  sum_sales        16444 non-null  float64\n",
      "dtypes: float64(7), object(5)\n",
      "memory usage: 1.6+ MB\n"
     ]
    }
   ],
   "source": [
    "data.info()"
   ]
  },
  {
   "cell_type": "markdown",
   "id": "ce6d95e6",
   "metadata": {},
   "source": [
    "`year_of_release` - год выпуска может быть только целым цислом."
   ]
  },
  {
   "cell_type": "code",
   "execution_count": 25,
   "id": "eaad813b",
   "metadata": {},
   "outputs": [],
   "source": [
    "data['year_of_release'] = pd.array(data['year_of_release'], dtype=pd.Int64Dtype())"
   ]
  },
  {
   "cell_type": "code",
   "execution_count": 26,
   "id": "00d48000",
   "metadata": {},
   "outputs": [
    {
     "name": "stdout",
     "output_type": "stream",
     "text": [
      "<class 'pandas.core.frame.DataFrame'>\n",
      "Int64Index: 16444 entries, 0 to 16714\n",
      "Data columns (total 12 columns):\n",
      " #   Column           Non-Null Count  Dtype  \n",
      "---  ------           --------------  -----  \n",
      " 0   name             16444 non-null  object \n",
      " 1   platform         16444 non-null  object \n",
      " 2   year_of_release  16444 non-null  Int64  \n",
      " 3   genre            16444 non-null  object \n",
      " 4   na_sales         16444 non-null  float64\n",
      " 5   eu_sales         16444 non-null  float64\n",
      " 6   jp_sales         16444 non-null  float64\n",
      " 7   other_sales      16444 non-null  float64\n",
      " 8   critic_score     7983 non-null   float64\n",
      " 9   user_score       7463 non-null   object \n",
      " 10  rating           16444 non-null  object \n",
      " 11  sum_sales        16444 non-null  float64\n",
      "dtypes: Int64(1), float64(6), object(5)\n",
      "memory usage: 1.6+ MB\n"
     ]
    }
   ],
   "source": [
    "data.info()"
   ]
  },
  {
   "cell_type": "markdown",
   "id": "7055ef82",
   "metadata": {},
   "source": [
    "Далее `user_score`. Оценка пользователей - числовой тип данных."
   ]
  },
  {
   "cell_type": "code",
   "execution_count": 27,
   "id": "e5617436",
   "metadata": {},
   "outputs": [],
   "source": [
    "data['user_score'] = pd.to_numeric(data['user_score'], errors='coerce')"
   ]
  },
  {
   "cell_type": "code",
   "execution_count": 28,
   "id": "5bb1b2c3",
   "metadata": {},
   "outputs": [
    {
     "name": "stdout",
     "output_type": "stream",
     "text": [
      "<class 'pandas.core.frame.DataFrame'>\n",
      "Int64Index: 16444 entries, 0 to 16714\n",
      "Data columns (total 12 columns):\n",
      " #   Column           Non-Null Count  Dtype  \n",
      "---  ------           --------------  -----  \n",
      " 0   name             16444 non-null  object \n",
      " 1   platform         16444 non-null  object \n",
      " 2   year_of_release  16444 non-null  Int64  \n",
      " 3   genre            16444 non-null  object \n",
      " 4   na_sales         16444 non-null  float64\n",
      " 5   eu_sales         16444 non-null  float64\n",
      " 6   jp_sales         16444 non-null  float64\n",
      " 7   other_sales      16444 non-null  float64\n",
      " 8   critic_score     7983 non-null   float64\n",
      " 9   user_score       7463 non-null   float64\n",
      " 10  rating           16444 non-null  object \n",
      " 11  sum_sales        16444 non-null  float64\n",
      "dtypes: Int64(1), float64(7), object(4)\n",
      "memory usage: 1.6+ MB\n"
     ]
    }
   ],
   "source": [
    "data.info()"
   ]
  },
  {
   "cell_type": "markdown",
   "id": "240024e1",
   "metadata": {},
   "source": [
    "## Дубликаты"
   ]
  },
  {
   "cell_type": "code",
   "execution_count": 29,
   "id": "62ce3e3e",
   "metadata": {},
   "outputs": [
    {
     "data": {
      "text/plain": [
       "0"
      ]
     },
     "execution_count": 29,
     "metadata": {},
     "output_type": "execute_result"
    }
   ],
   "source": [
    "data.duplicated().sum()"
   ]
  },
  {
   "cell_type": "markdown",
   "id": "84d2e58e",
   "metadata": {},
   "source": [
    "Явных дубликатов в датасете не обнаружено."
   ]
  },
  {
   "cell_type": "markdown",
   "id": "68d1d86e",
   "metadata": {},
   "source": [
    "## Исследовательский анализ данных"
   ]
  },
  {
   "cell_type": "markdown",
   "id": "bdbbb0ef",
   "metadata": {},
   "source": [
    "**Посмотрим, сколько игр выпускалось в разные годы. Важны ли данные за все периоды?**"
   ]
  },
  {
   "cell_type": "code",
   "execution_count": 30,
   "id": "d9afce0f",
   "metadata": {},
   "outputs": [
    {
     "data": {
      "image/png": "[encoded data removed]",
      "text/plain": [
       "<Figure size 640x480 with 1 Axes>"
      ]
     },
     "metadata": {},
     "output_type": "display_data"
    }
   ],
   "source": [
    "a = data.pivot_table(index='year_of_release', values='genre', aggfunc=len)\n",
    "b = seaborn.barplot(x=a.index, y=a['genre'])\n",
    "b.set_xticklabels(b.get_xticklabels(),rotation = 90);"
   ]
  },
  {
   "cell_type": "markdown",
   "id": "789c0114",
   "metadata": {},
   "source": [
    "Раньше 1995 года выходило меньше 200 игр в год. Из-за малого количества записей за этот период данные неважны."
   ]
  },
  {
   "cell_type": "markdown",
   "id": "17df80e9",
   "metadata": {},
   "source": [
    "**Посмотрим, как менялись продажи по платформам. Выберем платформы с наибольшими суммарными продажами и построим распределение по годам. За какой характерный срок появляются новые и исчезают старые платформы?**"
   ]
  },
  {
   "cell_type": "code",
   "execution_count": 31,
   "id": "094d8cc6",
   "metadata": {},
   "outputs": [
    {
     "data": {
      "image/png": "[encoded data removed]",
      "text/plain": [
       "<Figure size 1500x800 with 1 Axes>"
      ]
     },
     "metadata": {},
     "output_type": "display_data"
    }
   ],
   "source": [
    "max_sales_platform = data.pivot_table(index=['platform'], values='sum_sales', aggfunc='sum').sort_values(by='sum_sales').tail(10).index.tolist()\n",
    "max_sales_platform_data = data.query('platform == @max_sales_platform')\n",
    "max_sales_platform_data_table = max_sales_platform_data.pivot_table(index='year_of_release', columns='platform', values='sum_sales', aggfunc='sum')\n",
    "max_sales_platform_data_table.plot(figsize=(15,8), title='Изменение продаж популярных платформ по годам');"
   ]
  },
  {
   "cell_type": "markdown",
   "id": "14232323",
   "metadata": {},
   "source": [
    "Такая платформа, как PS, при умемньшении продаж выпускала свою новую версию. В настоящее время существует платформа PS3, постепенно уменьшающаяся по продажам и PS4.  "
   ]
  },
  {
   "cell_type": "code",
   "execution_count": 32,
   "id": "da551ae6",
   "metadata": {},
   "outputs": [
    {
     "data": {
      "image/png": "[encoded data removed]",
      "text/plain": [
       "<Figure size 640x480 with 1 Axes>"
      ]
     },
     "metadata": {},
     "output_type": "display_data"
    }
   ],
   "source": [
    "max_year = max_sales_platform_data.pivot_table(index='platform', values='year_of_release', aggfunc='max')\n",
    "min_year = max_sales_platform_data.pivot_table(index='platform', values='year_of_release', aggfunc='min')\n",
    "max_year['year_difference'] = max_year['year_of_release'] - min_year['year_of_release']\n",
    "max_year = max_year.sort_values(by='year_difference')\n",
    "seaborn.barplot(x=max_year['year_difference'], y=max_year.index).set_title('Время существования популярных платформ');"
   ]
  },
  {
   "cell_type": "markdown",
   "id": "e011e22c",
   "metadata": {},
   "source": [
    "Выше показано время существования платформы. Самые \"старая\" платформа - DS. Видим, что самый маленький срок у платформы PS4, так как она появилась совсем недавно. "
   ]
  },
  {
   "cell_type": "markdown",
   "id": "6e5d3e69",
   "metadata": {},
   "source": [
    "**Возьмем данные за соответствующий актуальный период.**"
   ]
  },
  {
   "cell_type": "markdown",
   "id": "b4f19609",
   "metadata": {},
   "source": [
    "Актуальным периодом будем считать данные с 2014 по 2016 год. Так как с начала этого периода появились платформы, которые до сих пор не исчезли, а данные за 2016 год не полные. "
   ]
  },
  {
   "cell_type": "markdown",
   "id": "def749cb",
   "metadata": {},
   "source": [
    "**Какие платформы лидируют по продажам, растут или падают? Выберем несколько потенциально прибыльных платформ.**"
   ]
  },
  {
   "cell_type": "code",
   "execution_count": 33,
   "id": "117598e4",
   "metadata": {},
   "outputs": [
    {
     "data": {
      "text/html": [
       "<div>\n",
       "<style scoped>\n",
       "    .dataframe tbody tr th:only-of-type {\n",
       "        vertical-align: middle;\n",
       "    }\n",
       "\n",
       "    .dataframe tbody tr th {\n",
       "        vertical-align: top;\n",
       "    }\n",
       "\n",
       "    .dataframe thead th {\n",
       "        text-align: right;\n",
       "    }\n",
       "</style>\n",
       "<table border=\"1\" class=\"dataframe\">\n",
       "  <thead>\n",
       "    <tr style=\"text-align: right;\">\n",
       "      <th></th>\n",
       "      <th>sum_sales</th>\n",
       "    </tr>\n",
       "    <tr>\n",
       "      <th>platform</th>\n",
       "      <th></th>\n",
       "    </tr>\n",
       "  </thead>\n",
       "  <tbody>\n",
       "    <tr>\n",
       "      <th>PSP</th>\n",
       "      <td>0.36</td>\n",
       "    </tr>\n",
       "    <tr>\n",
       "      <th>Wii</th>\n",
       "      <td>5.07</td>\n",
       "    </tr>\n",
       "    <tr>\n",
       "      <th>PSV</th>\n",
       "      <td>22.40</td>\n",
       "    </tr>\n",
       "    <tr>\n",
       "      <th>PC</th>\n",
       "      <td>27.05</td>\n",
       "    </tr>\n",
       "    <tr>\n",
       "      <th>WiiU</th>\n",
       "      <td>42.98</td>\n",
       "    </tr>\n",
       "    <tr>\n",
       "      <th>X360</th>\n",
       "      <td>48.22</td>\n",
       "    </tr>\n",
       "    <tr>\n",
       "      <th>PS3</th>\n",
       "      <td>68.18</td>\n",
       "    </tr>\n",
       "    <tr>\n",
       "      <th>3DS</th>\n",
       "      <td>86.68</td>\n",
       "    </tr>\n",
       "    <tr>\n",
       "      <th>XOne</th>\n",
       "      <td>140.36</td>\n",
       "    </tr>\n",
       "    <tr>\n",
       "      <th>PS4</th>\n",
       "      <td>288.15</td>\n",
       "    </tr>\n",
       "  </tbody>\n",
       "</table>\n",
       "</div>"
      ],
      "text/plain": [
       "          sum_sales\n",
       "platform           \n",
       "PSP            0.36\n",
       "Wii            5.07\n",
       "PSV           22.40\n",
       "PC            27.05\n",
       "WiiU          42.98\n",
       "X360          48.22\n",
       "PS3           68.18\n",
       "3DS           86.68\n",
       "XOne         140.36\n",
       "PS4          288.15"
      ]
     },
     "execution_count": 33,
     "metadata": {},
     "output_type": "execute_result"
    }
   ],
   "source": [
    "period = data.loc[(data['year_of_release'] >= 2014) & (data['year_of_release'] <= 2016)]\n",
    "period_sales = period.pivot_table(index='platform', values='sum_sales', aggfunc='sum').sort_values(by='sum_sales')\n",
    "period_sales"
   ]
  },
  {
   "cell_type": "markdown",
   "id": "a151ceb9",
   "metadata": {},
   "source": [
    "Судя по таблице, лидерами продаж являются: DS, Wii, PS3, X360, но не будем забывать про время их существования. "
   ]
  },
  {
   "cell_type": "code",
   "execution_count": 34,
   "id": "963ecd3f",
   "metadata": {},
   "outputs": [
    {
     "data": {
      "image/png": "[encoded data removed]",
      "text/plain": [
       "<Figure size 1500x800 with 1 Axes>"
      ]
     },
     "metadata": {},
     "output_type": "display_data"
    }
   ],
   "source": [
    "period.pivot_table(index='year_of_release', columns='platform', values='sum_sales', aggfunc='sum').plot(figsize=(15,8));"
   ]
  },
  {
   "cell_type": "markdown",
   "id": "1c51cbfa",
   "metadata": {},
   "source": [
    "Можем заметить, что к 2015 году продажи всех платформ значительно снизились, причиной тому - выход новых двух платформ: PS4 и XOne, число продаж которых с 2013 года резко выросло. Актульным лидером продаж является PS4."
   ]
  },
  {
   "cell_type": "markdown",
   "id": "ee48b681",
   "metadata": {},
   "source": [
    "**Построим график «ящик с усами» по глобальным продажам игр в разбивке по платформам.**"
   ]
  },
  {
   "cell_type": "code",
   "execution_count": 35,
   "id": "337069e8",
   "metadata": {},
   "outputs": [
    {
     "data": {
      "image/png": "[encoded data removed]",
      "text/plain": [
       "<Figure size 1500x800 with 1 Axes>"
      ]
     },
     "metadata": {},
     "output_type": "display_data"
    }
   ],
   "source": [
    "plt.figure(figsize=(15,8))\n",
    "ax = seaborn.boxplot(y='platform', x='sum_sales', data=period);\n",
    "ax.set_xscale('log')"
   ]
  },
  {
   "cell_type": "markdown",
   "id": "42d6f98b",
   "metadata": {},
   "source": [
    "Максимальную продажу имеют платформы PS4 и 3DS, но по медианным значениям лидирует: XOne. "
   ]
  },
  {
   "cell_type": "markdown",
   "id": "db582042",
   "metadata": {},
   "source": [
    "**Посмотрим, как влияют на продажи внутри одной популярной платформы отзывы пользователей и критиков.**"
   ]
  },
  {
   "cell_type": "markdown",
   "id": "4a8d263d",
   "metadata": {},
   "source": [
    "Исходя из предыдущих рассуждений, самой популярной платформой является PS4, так как при небольшом сроке существования она находится практически наравне по продажам со старыми платформами."
   ]
  },
  {
   "cell_type": "code",
   "execution_count": 36,
   "id": "2ba2a437",
   "metadata": {},
   "outputs": [
    {
     "name": "stdout",
     "output_type": "stream",
     "text": [
      "Корреляция составила: -0.040131589472697286\n"
     ]
    }
   ],
   "source": [
    "ps4 = period.loc[period['platform'] == 'PS4']\n",
    "print('Корреляция составила:', ps4['user_score'].corr(ps4['sum_sales']))"
   ]
  },
  {
   "cell_type": "code",
   "execution_count": 37,
   "id": "817f3093",
   "metadata": {},
   "outputs": [
    {
     "data": {
      "image/png": "[encoded data removed]",
      "text/plain": [
       "<Figure size 640x480 with 1 Axes>"
      ]
     },
     "metadata": {},
     "output_type": "display_data"
    }
   ],
   "source": [
    "ps4.plot.scatter(x='user_score', y='sum_sales');"
   ]
  },
  {
   "cell_type": "markdown",
   "id": "ab0813b8",
   "metadata": {},
   "source": [
    "Зависимости между оценками пользователей и суммарными продажами нет."
   ]
  },
  {
   "cell_type": "code",
   "execution_count": 38,
   "id": "9c9e8b71",
   "metadata": {},
   "outputs": [
    {
     "name": "stdout",
     "output_type": "stream",
     "text": [
      "Корреляция составила: 0.40266141068104083\n"
     ]
    }
   ],
   "source": [
    "print('Корреляция составила:', ps4['critic_score'].corr(ps4['sum_sales']))"
   ]
  },
  {
   "cell_type": "code",
   "execution_count": 39,
   "id": "554a3121",
   "metadata": {},
   "outputs": [
    {
     "data": {
      "image/png": "[encoded data removed]",
      "text/plain": [
       "<Figure size 640x480 with 1 Axes>"
      ]
     },
     "metadata": {},
     "output_type": "display_data"
    }
   ],
   "source": [
    "ps4.plot.scatter(x='critic_score', y='sum_sales');"
   ]
  },
  {
   "cell_type": "markdown",
   "id": "2201de8f",
   "metadata": {},
   "source": [
    "А вот небольшая зависимость между оценками пользователей и суммарными продажами есть."
   ]
  },
  {
   "cell_type": "markdown",
   "id": "7ddafa0e",
   "metadata": {},
   "source": [
    "**Посмотрим графики и корреляцию для других платформ.**"
   ]
  },
  {
   "cell_type": "markdown",
   "id": "236d0005",
   "metadata": {},
   "source": [
    "Рассмотрим зависимости суммарных продаж и оценок пользователей на платформах 3DS, XOne."
   ]
  },
  {
   "cell_type": "code",
   "execution_count": 41,
   "id": "1bdb60e0",
   "metadata": {},
   "outputs": [
    {
     "name": "stdout",
     "output_type": "stream",
     "text": [
      "Корреляция  для платформы 3DS составила: 0.2151932718527028\n"
     ]
    }
   ],
   "source": [
    "ds = period.loc[period['platform'] == '3DS']\n",
    "print('Корреляция  для платформы 3DS составила:', ds['user_score'].corr(ds['sum_sales']))"
   ]
  },
  {
   "cell_type": "code",
   "execution_count": 42,
   "id": "bd6bf575",
   "metadata": {},
   "outputs": [
    {
     "data": {
      "image/png": "[encoded data removed]",
      "text/plain": [
       "<Figure size 640x480 with 1 Axes>"
      ]
     },
     "metadata": {},
     "output_type": "display_data"
    }
   ],
   "source": [
    "ds.plot.scatter(x='user_score', y='sum_sales');"
   ]
  },
  {
   "cell_type": "code",
   "execution_count": 44,
   "id": "f53fb1a8",
   "metadata": {},
   "outputs": [
    {
     "name": "stdout",
     "output_type": "stream",
     "text": [
      "Корреляция для платформы XOne составила: -0.07038392806475818\n"
     ]
    }
   ],
   "source": [
    "xone = period.loc[period['platform'] == 'XOne']\n",
    "print('Корреляция для платформы XOne составила:', xone['user_score'].corr(xone['sum_sales']))"
   ]
  },
  {
   "cell_type": "code",
   "execution_count": 46,
   "id": "5c05f34b",
   "metadata": {},
   "outputs": [
    {
     "data": {
      "image/png": "[encoded data removed]",
      "text/plain": [
       "<Figure size 640x480 with 1 Axes>"
      ]
     },
     "metadata": {},
     "output_type": "display_data"
    }
   ],
   "source": [
    "xone.plot.scatter(x='user_score', y='sum_sales');"
   ]
  },
  {
   "cell_type": "markdown",
   "id": "3d9079bd",
   "metadata": {},
   "source": [
    "**Тоже самое. Оценки пользователей практически не влияют на суммарные продажи.**"
   ]
  },
  {
   "cell_type": "markdown",
   "id": "354d5e9b",
   "metadata": {},
   "source": [
    "Проделаем тоже с оценками критиков."
   ]
  },
  {
   "cell_type": "code",
   "execution_count": 47,
   "id": "c59d64fb",
   "metadata": {},
   "outputs": [
    {
     "name": "stdout",
     "output_type": "stream",
     "text": [
      "Корреляция для платформы 3DS составила: 0.3141174928690509\n"
     ]
    }
   ],
   "source": [
    "print('Корреляция для платформы 3DS составила:', ds['critic_score'].corr(ds['sum_sales']))"
   ]
  },
  {
   "cell_type": "code",
   "execution_count": 48,
   "id": "6bb4a5a7",
   "metadata": {},
   "outputs": [
    {
     "data": {
      "image/png": "[encoded data removed]",
      "text/plain": [
       "<Figure size 640x480 with 1 Axes>"
      ]
     },
     "metadata": {},
     "output_type": "display_data"
    }
   ],
   "source": [
    "ds.plot.scatter(x='critic_score', y='sum_sales');"
   ]
  },
  {
   "cell_type": "code",
   "execution_count": 49,
   "id": "f1591dec",
   "metadata": {},
   "outputs": [
    {
     "name": "stdout",
     "output_type": "stream",
     "text": [
      "Корреляция для платформы XOne составила: 0.428676943703332\n"
     ]
    }
   ],
   "source": [
    "print('Корреляция для платформы XOne составила:', xone['critic_score'].corr(xone['sum_sales']))"
   ]
  },
  {
   "cell_type": "code",
   "execution_count": 50,
   "id": "a1c5d124",
   "metadata": {},
   "outputs": [
    {
     "data": {
      "image/png": "[encoded data removed]",
      "text/plain": [
       "<Figure size 640x480 with 1 Axes>"
      ]
     },
     "metadata": {},
     "output_type": "display_data"
    }
   ],
   "source": [
    "xone.plot.scatter(x='critic_score', y='sum_sales');"
   ]
  },
  {
   "cell_type": "markdown",
   "id": "af5c38ea",
   "metadata": {},
   "source": [
    "**Вывод подтвердился и для этих платформ. Небольшая зависимость между суммарными продажами и оценками критиков есть.**"
   ]
  },
  {
   "cell_type": "markdown",
   "id": "547995b6",
   "metadata": {},
   "source": [
    "**Посмотрим на общее распределение игр по жанрам.**"
   ]
  },
  {
   "cell_type": "code",
   "execution_count": 51,
   "id": "59429078",
   "metadata": {},
   "outputs": [
    {
     "data": {
      "image/png": "[encoded data removed]",
      "text/plain": [
       "<Figure size 1500x800 with 1 Axes>"
      ]
     },
     "metadata": {},
     "output_type": "display_data"
    }
   ],
   "source": [
    "plt.figure(figsize=(15,8))\n",
    "genre_sales = period.pivot_table(index='genre', values='sum_sales', aggfunc='median').sort_values(by='sum_sales')\n",
    "seaborn.boxplot(x=genre_sales['sum_sales'], y=genre_sales.index).set_title('Жанры и медианные продажи');"
   ]
  },
  {
   "cell_type": "markdown",
   "id": "7c07e9b5",
   "metadata": {},
   "source": [
    "Заметнее всего выделяются лидеры продаж - игры с жанром *Shooter*."
   ]
  },
  {
   "cell_type": "markdown",
   "id": "4f04704a",
   "metadata": {},
   "source": [
    "На графике мы можем выделяются еще две группы: \n",
    "- жанры с низкими продажами (Strategy, Puzzle, Adventure)\n",
    "- жанры со средними продажами (Platform, Fighting, Racing, Action, Role-Playing, Misc, Sports, Simulation)"
   ]
  },
  {
   "cell_type": "markdown",
   "id": "bc24332d",
   "metadata": {},
   "source": [
    "## Портрет пользователя"
   ]
  },
  {
   "cell_type": "markdown",
   "id": "00e041f2",
   "metadata": {},
   "source": [
    "Определим для пользователя каждого региона (NA, EU, JP):\n",
    "- Самые популярные платформы (топ-5). \n",
    "- Самые популярные жанры (топ-5).\n",
    "- Влияет ли рейтинг ESRB на продажи в отдельном регионе?"
   ]
  },
  {
   "cell_type": "markdown",
   "id": "0c074e55",
   "metadata": {},
   "source": [
    "**Начнем изучать популярные платформы в каждом регионе.**"
   ]
  },
  {
   "cell_type": "markdown",
   "id": "fc7dca91",
   "metadata": {},
   "source": [
    "Создадим сводную таблицу с топ-5 платформами по продажам в Северной Америке, а также добавим столбец с процентами продаж от общего числа."
   ]
  },
  {
   "cell_type": "code",
   "execution_count": 52,
   "id": "57b0e947",
   "metadata": {},
   "outputs": [],
   "source": [
    "na_user = period.pivot_table(index='platform', values=['na_sales', 'sum_sales'], aggfunc='sum').sort_values(by='na_sales').tail(5)"
   ]
  },
  {
   "cell_type": "code",
   "execution_count": 53,
   "id": "fc0be9a1",
   "metadata": {},
   "outputs": [],
   "source": [
    "na_user['percent'] = round(na_user['na_sales']/na_user['sum_sales']*100)"
   ]
  },
  {
   "cell_type": "code",
   "execution_count": 54,
   "id": "01b3f54b",
   "metadata": {},
   "outputs": [
    {
     "data": {
      "text/html": [
       "<div>\n",
       "<style scoped>\n",
       "    .dataframe tbody tr th:only-of-type {\n",
       "        vertical-align: middle;\n",
       "    }\n",
       "\n",
       "    .dataframe tbody tr th {\n",
       "        vertical-align: top;\n",
       "    }\n",
       "\n",
       "    .dataframe thead th {\n",
       "        text-align: right;\n",
       "    }\n",
       "</style>\n",
       "<table border=\"1\" class=\"dataframe\">\n",
       "  <thead>\n",
       "    <tr style=\"text-align: right;\">\n",
       "      <th></th>\n",
       "      <th>na_sales</th>\n",
       "      <th>sum_sales</th>\n",
       "      <th>percent</th>\n",
       "    </tr>\n",
       "    <tr>\n",
       "      <th>platform</th>\n",
       "      <th></th>\n",
       "      <th></th>\n",
       "      <th></th>\n",
       "    </tr>\n",
       "  </thead>\n",
       "  <tbody>\n",
       "    <tr>\n",
       "      <th>PS3</th>\n",
       "      <td>22.05</td>\n",
       "      <td>68.18</td>\n",
       "      <td>32.0</td>\n",
       "    </tr>\n",
       "    <tr>\n",
       "      <th>3DS</th>\n",
       "      <td>22.64</td>\n",
       "      <td>86.68</td>\n",
       "      <td>26.0</td>\n",
       "    </tr>\n",
       "    <tr>\n",
       "      <th>X360</th>\n",
       "      <td>28.30</td>\n",
       "      <td>48.22</td>\n",
       "      <td>59.0</td>\n",
       "    </tr>\n",
       "    <tr>\n",
       "      <th>XOne</th>\n",
       "      <td>81.27</td>\n",
       "      <td>140.36</td>\n",
       "      <td>58.0</td>\n",
       "    </tr>\n",
       "    <tr>\n",
       "      <th>PS4</th>\n",
       "      <td>98.61</td>\n",
       "      <td>288.15</td>\n",
       "      <td>34.0</td>\n",
       "    </tr>\n",
       "  </tbody>\n",
       "</table>\n",
       "</div>"
      ],
      "text/plain": [
       "          na_sales  sum_sales  percent\n",
       "platform                              \n",
       "PS3          22.05      68.18     32.0\n",
       "3DS          22.64      86.68     26.0\n",
       "X360         28.30      48.22     59.0\n",
       "XOne         81.27     140.36     58.0\n",
       "PS4          98.61     288.15     34.0"
      ]
     },
     "execution_count": 54,
     "metadata": {},
     "output_type": "execute_result"
    }
   ],
   "source": [
    "na_user"
   ]
  },
  {
   "cell_type": "markdown",
   "id": "d9a9d02a",
   "metadata": {},
   "source": [
    "В Северной Америке лидируют следующие платформы:\n",
    "- PS3 (32% от общего числа продаж)\n",
    "- 3DS (26% от общего числа продаж)\n",
    "- X360 (59% от общего числа продаж)\n",
    "- XOne (58% от общего числа продаж)\n",
    "- PS4 (34% от общего числа продаж)"
   ]
  },
  {
   "cell_type": "markdown",
   "id": "dce87fca",
   "metadata": {},
   "source": [
    "Создадим сводную таблицу с топ-5 платформами по продажам в Европе, а также добавим столбец с процентами продаж от общего числа."
   ]
  },
  {
   "cell_type": "code",
   "execution_count": 55,
   "id": "a11f65e2",
   "metadata": {},
   "outputs": [],
   "source": [
    "eu_user = period.pivot_table(index='platform', values=['eu_sales', 'sum_sales'], aggfunc='sum').sort_values(by='eu_sales').tail(5)"
   ]
  },
  {
   "cell_type": "code",
   "execution_count": 56,
   "id": "6aacce9c",
   "metadata": {},
   "outputs": [],
   "source": [
    "eu_user['percent'] = round(eu_user['eu_sales']/eu_user['sum_sales']*100)"
   ]
  },
  {
   "cell_type": "code",
   "execution_count": 57,
   "id": "d3c46990",
   "metadata": {},
   "outputs": [
    {
     "data": {
      "text/html": [
       "<div>\n",
       "<style scoped>\n",
       "    .dataframe tbody tr th:only-of-type {\n",
       "        vertical-align: middle;\n",
       "    }\n",
       "\n",
       "    .dataframe tbody tr th {\n",
       "        vertical-align: top;\n",
       "    }\n",
       "\n",
       "    .dataframe thead th {\n",
       "        text-align: right;\n",
       "    }\n",
       "</style>\n",
       "<table border=\"1\" class=\"dataframe\">\n",
       "  <thead>\n",
       "    <tr style=\"text-align: right;\">\n",
       "      <th></th>\n",
       "      <th>eu_sales</th>\n",
       "      <th>sum_sales</th>\n",
       "      <th>percent</th>\n",
       "    </tr>\n",
       "    <tr>\n",
       "      <th>platform</th>\n",
       "      <th></th>\n",
       "      <th></th>\n",
       "      <th></th>\n",
       "    </tr>\n",
       "  </thead>\n",
       "  <tbody>\n",
       "    <tr>\n",
       "      <th>3DS</th>\n",
       "      <td>16.12</td>\n",
       "      <td>86.68</td>\n",
       "      <td>19.0</td>\n",
       "    </tr>\n",
       "    <tr>\n",
       "      <th>PC</th>\n",
       "      <td>17.97</td>\n",
       "      <td>27.05</td>\n",
       "      <td>66.0</td>\n",
       "    </tr>\n",
       "    <tr>\n",
       "      <th>PS3</th>\n",
       "      <td>25.54</td>\n",
       "      <td>68.18</td>\n",
       "      <td>37.0</td>\n",
       "    </tr>\n",
       "    <tr>\n",
       "      <th>XOne</th>\n",
       "      <td>46.25</td>\n",
       "      <td>140.36</td>\n",
       "      <td>33.0</td>\n",
       "    </tr>\n",
       "    <tr>\n",
       "      <th>PS4</th>\n",
       "      <td>130.04</td>\n",
       "      <td>288.15</td>\n",
       "      <td>45.0</td>\n",
       "    </tr>\n",
       "  </tbody>\n",
       "</table>\n",
       "</div>"
      ],
      "text/plain": [
       "          eu_sales  sum_sales  percent\n",
       "platform                              \n",
       "3DS          16.12      86.68     19.0\n",
       "PC           17.97      27.05     66.0\n",
       "PS3          25.54      68.18     37.0\n",
       "XOne         46.25     140.36     33.0\n",
       "PS4         130.04     288.15     45.0"
      ]
     },
     "execution_count": 57,
     "metadata": {},
     "output_type": "execute_result"
    }
   ],
   "source": [
    "eu_user"
   ]
  },
  {
   "cell_type": "markdown",
   "id": "d3a3c593",
   "metadata": {},
   "source": [
    "В Европе лидируют следующие платформы:\n",
    "- 3DS (19% от общего числа продаж)\n",
    "- PC (66% от общего числа продаж)\n",
    "- PS3 (37% от общего числа продаж)\n",
    "- XOne (33% от общего числа продаж)\n",
    "- PS4 (45% от общего числа продаж)"
   ]
  },
  {
   "cell_type": "markdown",
   "id": "83b80396",
   "metadata": {},
   "source": [
    "Создадим сводную таблицу с топ-5 платформами по продажам в Японии, а также добавим столбец с процентами продаж от общего числа."
   ]
  },
  {
   "cell_type": "code",
   "execution_count": 58,
   "id": "74846c73",
   "metadata": {},
   "outputs": [],
   "source": [
    "jp_user = period.pivot_table(index='platform', values=['jp_sales', 'sum_sales'], aggfunc='sum').sort_values(by='jp_sales').tail(5)"
   ]
  },
  {
   "cell_type": "code",
   "execution_count": 59,
   "id": "b803e552",
   "metadata": {},
   "outputs": [],
   "source": [
    "jp_user['percent'] = round(jp_user['jp_sales']/jp_user['sum_sales']*100)"
   ]
  },
  {
   "cell_type": "code",
   "execution_count": 60,
   "id": "adb61e58",
   "metadata": {},
   "outputs": [
    {
     "data": {
      "text/html": [
       "<div>\n",
       "<style scoped>\n",
       "    .dataframe tbody tr th:only-of-type {\n",
       "        vertical-align: middle;\n",
       "    }\n",
       "\n",
       "    .dataframe tbody tr th {\n",
       "        vertical-align: top;\n",
       "    }\n",
       "\n",
       "    .dataframe thead th {\n",
       "        text-align: right;\n",
       "    }\n",
       "</style>\n",
       "<table border=\"1\" class=\"dataframe\">\n",
       "  <thead>\n",
       "    <tr style=\"text-align: right;\">\n",
       "      <th></th>\n",
       "      <th>jp_sales</th>\n",
       "      <th>sum_sales</th>\n",
       "      <th>percent</th>\n",
       "    </tr>\n",
       "    <tr>\n",
       "      <th>platform</th>\n",
       "      <th></th>\n",
       "      <th></th>\n",
       "      <th></th>\n",
       "    </tr>\n",
       "  </thead>\n",
       "  <tbody>\n",
       "    <tr>\n",
       "      <th>WiiU</th>\n",
       "      <td>7.31</td>\n",
       "      <td>42.98</td>\n",
       "      <td>17.0</td>\n",
       "    </tr>\n",
       "    <tr>\n",
       "      <th>PS3</th>\n",
       "      <td>11.22</td>\n",
       "      <td>68.18</td>\n",
       "      <td>16.0</td>\n",
       "    </tr>\n",
       "    <tr>\n",
       "      <th>PSV</th>\n",
       "      <td>14.54</td>\n",
       "      <td>22.40</td>\n",
       "      <td>65.0</td>\n",
       "    </tr>\n",
       "    <tr>\n",
       "      <th>PS4</th>\n",
       "      <td>15.02</td>\n",
       "      <td>288.15</td>\n",
       "      <td>5.0</td>\n",
       "    </tr>\n",
       "    <tr>\n",
       "      <th>3DS</th>\n",
       "      <td>44.24</td>\n",
       "      <td>86.68</td>\n",
       "      <td>51.0</td>\n",
       "    </tr>\n",
       "  </tbody>\n",
       "</table>\n",
       "</div>"
      ],
      "text/plain": [
       "          jp_sales  sum_sales  percent\n",
       "platform                              \n",
       "WiiU          7.31      42.98     17.0\n",
       "PS3          11.22      68.18     16.0\n",
       "PSV          14.54      22.40     65.0\n",
       "PS4          15.02     288.15      5.0\n",
       "3DS          44.24      86.68     51.0"
      ]
     },
     "execution_count": 60,
     "metadata": {},
     "output_type": "execute_result"
    }
   ],
   "source": [
    "jp_user"
   ]
  },
  {
   "cell_type": "markdown",
   "id": "82d59a2d",
   "metadata": {},
   "source": [
    "В Японии лидируют следующие платформы:\n",
    "- WiiU (17% от общего числа продаж)\n",
    "- PS3 (16% от общего числа продаж)\n",
    "- PSV (65% от общего числа продаж)\n",
    "- PS4 (5% от общего числа продаж)\n",
    "- 3DS (51% от общего числа продаж)"
   ]
  },
  {
   "cell_type": "markdown",
   "id": "8030c416",
   "metadata": {},
   "source": [
    "**Пользователи Северной Америки в большинстве предпочитают платформы XOne, X360.**\n",
    "\n",
    "**Европейские пользователи чаще покупают игры на платформы PC, PS4.**\n",
    "\n",
    "**В Японии предпочитают платформу PSV.**\n",
    "\n",
    "Общими платформами для всех регионов оказались: PS3, PS4, 3DS."
   ]
  },
  {
   "cell_type": "markdown",
   "id": "7a67ed6e",
   "metadata": {},
   "source": [
    "**Проделаем тоже самое с жанрами.**"
   ]
  },
  {
   "cell_type": "markdown",
   "id": "67931a0d",
   "metadata": {},
   "source": [
    "Создадим сводную таблицу с топ-5 жанрами по продажам в Северной Америке, а также добавим столбец с процентами продаж от общего числа."
   ]
  },
  {
   "cell_type": "code",
   "execution_count": 61,
   "id": "aefacb83",
   "metadata": {},
   "outputs": [],
   "source": [
    "na_genre = period.pivot_table(index='genre', values=['na_sales', 'sum_sales'], aggfunc='sum').sort_values(by='na_sales').tail(5)"
   ]
  },
  {
   "cell_type": "code",
   "execution_count": 62,
   "id": "20156e50",
   "metadata": {},
   "outputs": [
    {
     "data": {
      "text/html": [
       "<div>\n",
       "<style scoped>\n",
       "    .dataframe tbody tr th:only-of-type {\n",
       "        vertical-align: middle;\n",
       "    }\n",
       "\n",
       "    .dataframe tbody tr th {\n",
       "        vertical-align: top;\n",
       "    }\n",
       "\n",
       "    .dataframe thead th {\n",
       "        text-align: right;\n",
       "    }\n",
       "</style>\n",
       "<table border=\"1\" class=\"dataframe\">\n",
       "  <thead>\n",
       "    <tr style=\"text-align: right;\">\n",
       "      <th></th>\n",
       "      <th>na_sales</th>\n",
       "      <th>sum_sales</th>\n",
       "      <th>percent</th>\n",
       "    </tr>\n",
       "    <tr>\n",
       "      <th>genre</th>\n",
       "      <th></th>\n",
       "      <th></th>\n",
       "      <th></th>\n",
       "    </tr>\n",
       "  </thead>\n",
       "  <tbody>\n",
       "    <tr>\n",
       "      <th>Misc</th>\n",
       "      <td>15.05</td>\n",
       "      <td>37.55</td>\n",
       "      <td>40.0</td>\n",
       "    </tr>\n",
       "    <tr>\n",
       "      <th>Role-Playing</th>\n",
       "      <td>33.47</td>\n",
       "      <td>101.44</td>\n",
       "      <td>33.0</td>\n",
       "    </tr>\n",
       "    <tr>\n",
       "      <th>Sports</th>\n",
       "      <td>46.13</td>\n",
       "      <td>109.48</td>\n",
       "      <td>42.0</td>\n",
       "    </tr>\n",
       "    <tr>\n",
       "      <th>Action</th>\n",
       "      <td>72.53</td>\n",
       "      <td>199.36</td>\n",
       "      <td>36.0</td>\n",
       "    </tr>\n",
       "    <tr>\n",
       "      <th>Shooter</th>\n",
       "      <td>79.02</td>\n",
       "      <td>170.94</td>\n",
       "      <td>46.0</td>\n",
       "    </tr>\n",
       "  </tbody>\n",
       "</table>\n",
       "</div>"
      ],
      "text/plain": [
       "              na_sales  sum_sales  percent\n",
       "genre                                     \n",
       "Misc             15.05      37.55     40.0\n",
       "Role-Playing     33.47     101.44     33.0\n",
       "Sports           46.13     109.48     42.0\n",
       "Action           72.53     199.36     36.0\n",
       "Shooter          79.02     170.94     46.0"
      ]
     },
     "execution_count": 62,
     "metadata": {},
     "output_type": "execute_result"
    }
   ],
   "source": [
    "na_genre['percent'] = round(na_genre['na_sales']/na_genre['sum_sales']*100)\n",
    "na_genre"
   ]
  },
  {
   "cell_type": "markdown",
   "id": "4b17982a",
   "metadata": {},
   "source": [
    "В Северной Америке лидируют следующие жанры:\n",
    "- Role-Playing (33% от общего числа продаж)\n",
    "- Misc (40% от общего числа продаж)\n",
    "- Shooter (46% от общего числа продаж)\n",
    "- Sports (42% от общего числа продаж)\n",
    "- Action (36% от общего числа продаж)"
   ]
  },
  {
   "cell_type": "markdown",
   "id": "2b4445dc",
   "metadata": {},
   "source": [
    "Создадим сводную таблицу с топ-5 жанрами по продажам в Европе, а также добавим столбец с процентами продаж от общего числа."
   ]
  },
  {
   "cell_type": "code",
   "execution_count": 63,
   "id": "9c26d23c",
   "metadata": {},
   "outputs": [],
   "source": [
    "eu_genre = period.pivot_table(index='genre', values=['eu_sales', 'sum_sales'], aggfunc='sum').sort_values(by='eu_sales').tail(5)"
   ]
  },
  {
   "cell_type": "code",
   "execution_count": 64,
   "id": "73ecaa06",
   "metadata": {},
   "outputs": [
    {
     "data": {
      "text/html": [
       "<div>\n",
       "<style scoped>\n",
       "    .dataframe tbody tr th:only-of-type {\n",
       "        vertical-align: middle;\n",
       "    }\n",
       "\n",
       "    .dataframe tbody tr th {\n",
       "        vertical-align: top;\n",
       "    }\n",
       "\n",
       "    .dataframe thead th {\n",
       "        text-align: right;\n",
       "    }\n",
       "</style>\n",
       "<table border=\"1\" class=\"dataframe\">\n",
       "  <thead>\n",
       "    <tr style=\"text-align: right;\">\n",
       "      <th></th>\n",
       "      <th>eu_sales</th>\n",
       "      <th>sum_sales</th>\n",
       "      <th>percent</th>\n",
       "    </tr>\n",
       "    <tr>\n",
       "      <th>genre</th>\n",
       "      <th></th>\n",
       "      <th></th>\n",
       "      <th></th>\n",
       "    </tr>\n",
       "  </thead>\n",
       "  <tbody>\n",
       "    <tr>\n",
       "      <th>Racing</th>\n",
       "      <td>14.13</td>\n",
       "      <td>27.52</td>\n",
       "      <td>51.0</td>\n",
       "    </tr>\n",
       "    <tr>\n",
       "      <th>Role-Playing</th>\n",
       "      <td>28.17</td>\n",
       "      <td>101.44</td>\n",
       "      <td>28.0</td>\n",
       "    </tr>\n",
       "    <tr>\n",
       "      <th>Sports</th>\n",
       "      <td>45.73</td>\n",
       "      <td>109.48</td>\n",
       "      <td>42.0</td>\n",
       "    </tr>\n",
       "    <tr>\n",
       "      <th>Shooter</th>\n",
       "      <td>65.52</td>\n",
       "      <td>170.94</td>\n",
       "      <td>38.0</td>\n",
       "    </tr>\n",
       "    <tr>\n",
       "      <th>Action</th>\n",
       "      <td>74.68</td>\n",
       "      <td>199.36</td>\n",
       "      <td>37.0</td>\n",
       "    </tr>\n",
       "  </tbody>\n",
       "</table>\n",
       "</div>"
      ],
      "text/plain": [
       "              eu_sales  sum_sales  percent\n",
       "genre                                     \n",
       "Racing           14.13      27.52     51.0\n",
       "Role-Playing     28.17     101.44     28.0\n",
       "Sports           45.73     109.48     42.0\n",
       "Shooter          65.52     170.94     38.0\n",
       "Action           74.68     199.36     37.0"
      ]
     },
     "execution_count": 64,
     "metadata": {},
     "output_type": "execute_result"
    }
   ],
   "source": [
    "eu_genre['percent'] = round(eu_genre['eu_sales']/eu_genre['sum_sales']*100)\n",
    "eu_genre"
   ]
  },
  {
   "cell_type": "markdown",
   "id": "5441ead1",
   "metadata": {},
   "source": [
    "В Европе лидируют следующие жанры:\n",
    "- Role-Playing (28% от общего числа продаж)\n",
    "- Racing (51% от общего числа продаж)\n",
    "- Shooter (38% от общего числа продаж)\n",
    "- Sports (42% от общего числа продаж)\n",
    "- Action (37% от общего числа продаж)"
   ]
  },
  {
   "cell_type": "markdown",
   "id": "1312862a",
   "metadata": {},
   "source": [
    "Создадим сводную таблицу с топ-5 жанрами по продажам в Японии, а также добавим столбец с процентами продаж от общего числа."
   ]
  },
  {
   "cell_type": "code",
   "execution_count": 65,
   "id": "ac20bd02",
   "metadata": {},
   "outputs": [],
   "source": [
    "jp_genre = period.pivot_table(index='genre', values=['jp_sales', 'sum_sales'], aggfunc='sum').sort_values(by='jp_sales').tail(5)"
   ]
  },
  {
   "cell_type": "code",
   "execution_count": 66,
   "id": "3fea347c",
   "metadata": {},
   "outputs": [
    {
     "data": {
      "text/html": [
       "<div>\n",
       "<style scoped>\n",
       "    .dataframe tbody tr th:only-of-type {\n",
       "        vertical-align: middle;\n",
       "    }\n",
       "\n",
       "    .dataframe tbody tr th {\n",
       "        vertical-align: top;\n",
       "    }\n",
       "\n",
       "    .dataframe thead th {\n",
       "        text-align: right;\n",
       "    }\n",
       "</style>\n",
       "<table border=\"1\" class=\"dataframe\">\n",
       "  <thead>\n",
       "    <tr style=\"text-align: right;\">\n",
       "      <th></th>\n",
       "      <th>jp_sales</th>\n",
       "      <th>sum_sales</th>\n",
       "      <th>percent</th>\n",
       "    </tr>\n",
       "    <tr>\n",
       "      <th>genre</th>\n",
       "      <th></th>\n",
       "      <th></th>\n",
       "      <th></th>\n",
       "    </tr>\n",
       "  </thead>\n",
       "  <tbody>\n",
       "    <tr>\n",
       "      <th>Shooter</th>\n",
       "      <td>4.87</td>\n",
       "      <td>170.94</td>\n",
       "      <td>3.0</td>\n",
       "    </tr>\n",
       "    <tr>\n",
       "      <th>Misc</th>\n",
       "      <td>5.61</td>\n",
       "      <td>37.55</td>\n",
       "      <td>15.0</td>\n",
       "    </tr>\n",
       "    <tr>\n",
       "      <th>Fighting</th>\n",
       "      <td>6.37</td>\n",
       "      <td>28.22</td>\n",
       "      <td>23.0</td>\n",
       "    </tr>\n",
       "    <tr>\n",
       "      <th>Action</th>\n",
       "      <td>29.58</td>\n",
       "      <td>199.36</td>\n",
       "      <td>15.0</td>\n",
       "    </tr>\n",
       "    <tr>\n",
       "      <th>Role-Playing</th>\n",
       "      <td>31.16</td>\n",
       "      <td>101.44</td>\n",
       "      <td>31.0</td>\n",
       "    </tr>\n",
       "  </tbody>\n",
       "</table>\n",
       "</div>"
      ],
      "text/plain": [
       "              jp_sales  sum_sales  percent\n",
       "genre                                     \n",
       "Shooter           4.87     170.94      3.0\n",
       "Misc              5.61      37.55     15.0\n",
       "Fighting          6.37      28.22     23.0\n",
       "Action           29.58     199.36     15.0\n",
       "Role-Playing     31.16     101.44     31.0"
      ]
     },
     "execution_count": 66,
     "metadata": {},
     "output_type": "execute_result"
    }
   ],
   "source": [
    "jp_genre['percent'] = round(jp_genre['jp_sales']/jp_genre['sum_sales']*100)\n",
    "jp_genre"
   ]
  },
  {
   "cell_type": "markdown",
   "id": "9a455fbf",
   "metadata": {},
   "source": [
    "В Японии лидируют следующие жанры:\n",
    "- Shooter (3% от общего числа продаж)\n",
    "- Fighting (23% от общего числа продаж)\n",
    "- Misc (15% от общего числа продаж)\n",
    "- Action (15% от общего числа продаж)\n",
    "- Role-Playing (31% от общего числа продаж)"
   ]
  },
  {
   "cell_type": "markdown",
   "id": "bd9511f8",
   "metadata": {},
   "source": [
    "**Пользователи всех регионов играют в игры с жанрами: Action, Role-Playing, Shooter.**"
   ]
  },
  {
   "cell_type": "markdown",
   "id": "10c7e104",
   "metadata": {},
   "source": [
    "**Влияет ли рейтинг ESRB на продажи в отдельном регионе?**"
   ]
  },
  {
   "cell_type": "code",
   "execution_count": 70,
   "id": "74bb75af",
   "metadata": {},
   "outputs": [
    {
     "data": {
      "image/png": "[encoded data removed]",
      "text/plain": [
       "<Figure size 640x480 with 1 Axes>"
      ]
     },
     "metadata": {},
     "output_type": "display_data"
    }
   ],
   "source": [
    "period.pivot_table(index='rating', values='na_sales', aggfunc='sum').sort_values(by='na_sales').plot(kind='bar', title='График: Продажи Северной Америки - Рейтинг');"
   ]
  },
  {
   "cell_type": "markdown",
   "id": "8dac3c3f",
   "metadata": {},
   "source": [
    "Лидером продаж в Северной Америке является рейтинг *M - От 17 лет*. Также покупают игры с рейтингами: Е - Для всех, E10+ - От 10 лет, T - Для взрослых и неизвестный рейтинг."
   ]
  },
  {
   "cell_type": "code",
   "execution_count": 71,
   "id": "3604cef3",
   "metadata": {},
   "outputs": [
    {
     "data": {
      "image/png": "[encoded data removed]",
      "text/plain": [
       "<Figure size 640x480 with 1 Axes>"
      ]
     },
     "metadata": {},
     "output_type": "display_data"
    }
   ],
   "source": [
    "period.pivot_table(index='rating', values='eu_sales', aggfunc='sum').sort_values(by='eu_sales').plot(kind='bar', title='График: Продажи Европы - Рейтинг');"
   ]
  },
  {
   "cell_type": "markdown",
   "id": "a7e60d88",
   "metadata": {},
   "source": [
    "Ситуация с рейтигами в Европе практически такая же, как в Северной Америке."
   ]
  },
  {
   "cell_type": "code",
   "execution_count": 72,
   "id": "a710d214",
   "metadata": {},
   "outputs": [
    {
     "data": {
      "image/png": "[encoded data removed]",
      "text/plain": [
       "<Figure size 640x480 with 1 Axes>"
      ]
     },
     "metadata": {},
     "output_type": "display_data"
    }
   ],
   "source": [
    "period.pivot_table(index='rating', values='jp_sales', aggfunc='sum').sort_values(by='jp_sales').plot(kind='bar', title='График: Продажи Японии - Рейтинг');"
   ]
  },
  {
   "cell_type": "markdown",
   "id": "ae3a5d6f",
   "metadata": {},
   "source": [
    "В Японии большего всего игр с неизвестным (пропущенным) рейтингом. Также покупают игры с ретингами: E, E10+, M, T."
   ]
  },
  {
   "cell_type": "markdown",
   "id": "72444212",
   "metadata": {},
   "source": [
    "## Проверка гипотез"
   ]
  },
  {
   "cell_type": "markdown",
   "id": "d42d79c4",
   "metadata": {},
   "source": [
    "**Средние пользовательские рейтинги платформ Xbox One и PC одинаковые**"
   ]
  },
  {
   "cell_type": "markdown",
   "id": "359b8400",
   "metadata": {},
   "source": [
    "Из данного высказывания следует нулевая гипотеза: Средние пользовательские рейтинги платформы XOne = средним пользовательским рейтингам платформы PC.\n",
    "\n",
    "Альтернативная гипотеза: Средние пользовательские рейтинги платформы XOne ≠ средним пользовательским рейтингам платформы PC."
   ]
  },
  {
   "cell_type": "code",
   "execution_count": 73,
   "id": "03c76443",
   "metadata": {},
   "outputs": [
    {
     "name": "stdout",
     "output_type": "stream",
     "text": [
      "0.10450507919348415\n",
      "Не получилось отвергнуть нулевую гипотезу\n"
     ]
    }
   ],
   "source": [
    "results = st.ttest_ind(\n",
    "    period.loc[(period['platform'] == 'XOne') & (~period['user_score'].isna()), 'user_score'], \n",
    "    period.loc[(period['platform'] == 'PC') & (~period['user_score'].isna()), 'user_score'])\n",
    "\n",
    "alpha = 0.05\n",
    "\n",
    "print(results.pvalue)\n",
    "\n",
    "if results.pvalue < alpha:\n",
    "    print(\"Отвергаем нулевую гипотезу\")\n",
    "else:\n",
    "    print(\"Не получилось отвергнуть нулевую гипотезу\")"
   ]
  },
  {
   "cell_type": "markdown",
   "id": "07a0609a",
   "metadata": {},
   "source": [
    "**Средние пользовательские рейтинги жанров Action (англ. «действие», экшен-игры) и Sports (англ. «спортивные соревнования») разные.**"
   ]
  },
  {
   "cell_type": "markdown",
   "id": "0f69cd52",
   "metadata": {},
   "source": [
    "Нулевая гипотеза: Средние пользовательские рейтинги жанра Action = средним пользовательским рейтингам жанра Sports\n",
    "    \n",
    "Альтернативная гипотеза: Средние пользовательские рейтинги жанра Action ≠ средним пользовательским рейтингам жанра Sports"
   ]
  },
  {
   "cell_type": "code",
   "execution_count": 74,
   "id": "0779cbb8",
   "metadata": {},
   "outputs": [
    {
     "name": "stdout",
     "output_type": "stream",
     "text": [
      "2.8711147985105864e-19\n",
      "Отвергаем нулевую гипотезу\n"
     ]
    }
   ],
   "source": [
    "results = st.ttest_ind(\n",
    "    period.loc[(period['genre'] == 'Action') & (~period['user_score'].isna()), 'user_score'], \n",
    "    period.loc[(period['genre'] == 'Sports') & (~period['user_score'].isna()), 'user_score'])\n",
    "\n",
    "alpha = 0.05\n",
    "\n",
    "print(results.pvalue)\n",
    "\n",
    "if results.pvalue < alpha:\n",
    "    print(\"Отвергаем нулевую гипотезу\")\n",
    "else:\n",
    "    print(\"Не получилось отвергнуть нулевую гипотезу\")"
   ]
  },
  {
   "cell_type": "markdown",
   "id": "4be4a940",
   "metadata": {},
   "source": [
    "## Вывод"
   ]
  },
  {
   "cell_type": "code",
   "execution_count": 75,
   "id": "075fc8bc",
   "metadata": {},
   "outputs": [
    {
     "data": {
      "text/plain": [
       "0.4925388882018682"
      ]
     },
     "execution_count": 75,
     "metadata": {},
     "output_type": "execute_result"
    }
   ],
   "source": [
    "sum(data['na_sales'])/sum(data['sum_sales'])"
   ]
  },
  {
   "cell_type": "markdown",
   "id": "a63632df",
   "metadata": {},
   "source": [
    "**Почти 50% игр были проданы пользователям Северной Америки**"
   ]
  },
  {
   "cell_type": "markdown",
   "id": "71ab5f9e",
   "metadata": {},
   "source": [
    "**Скачки продаж обусловлены появлением новых платформ**"
   ]
  },
  {
   "cell_type": "markdown",
   "id": "b068548f",
   "metadata": {},
   "source": [
    "За последний период активно набирают популярность недавно появившиеся платформы PS4 и XOne."
   ]
  },
  {
   "attachments": {
    "image-3.png": {
     "image/png": "[encoded data removed]"
    }
   },
   "cell_type": "markdown",
   "id": "681a81ce",
   "metadata": {},
   "source": [
    "![image-3.png](attachment:image-3.png)"
   ]
  },
  {
   "cell_type": "markdown",
   "id": "805b694b",
   "metadata": {},
   "source": [
    "Максимальную продажу имеют платформы PS4 и 3DS, но по медианным значениям лидирует: XOne. "
   ]
  },
  {
   "cell_type": "markdown",
   "id": "1e5f6fc5",
   "metadata": {},
   "source": [
    "**Было определено, что на количество продаж оценки критиков влияют больше, чем оценки пользователей.**"
   ]
  },
  {
   "cell_type": "markdown",
   "id": "b7411f73",
   "metadata": {},
   "source": [
    "Самым популярным жанром является **Shooter**"
   ]
  },
  {
   "cell_type": "markdown",
   "id": "e49856a8",
   "metadata": {},
   "source": [
    "**Пользователи Северной Америки в большинстве предпочитают платформы XOne, X360.**\n",
    "\n",
    "**Европейские пользователи чаще покупают игры на платформы PC, PS4.**\n",
    "\n",
    "**В Японии предпочитают платформу PSV.**\n",
    "\n",
    "Общими платформами для всех регионов оказались: PS3, PS4, 3DS."
   ]
  },
  {
   "cell_type": "markdown",
   "id": "881c9739",
   "metadata": {},
   "source": [
    "**Предпочтения пользователей Северной Америки и Европы схожи, но пользователи Японии предпочитают немного иные платформы и жанры.**"
   ]
  },
  {
   "cell_type": "markdown",
   "id": "19f0a914",
   "metadata": {},
   "source": [
    "Из-за того, что рейтинги устанавливаются для США и Канады, у игр, проданных в Японии, преобладает неизвестный (пропущенный) рейтинг. "
   ]
  },
  {
   "cell_type": "markdown",
   "id": "7c4c4303",
   "metadata": {},
   "source": [
    "В Северной Америке и Европе преобладает рейтинг M - от 17 лет."
   ]
  },
  {
   "cell_type": "markdown",
   "id": "64619e91",
   "metadata": {},
   "source": [
    "Не смотря на популярность только что вышедших платформ PS4 и XOne, платформы: PS3, PS4, 3DS используются во всех регионах."
   ]
  },
  {
   "cell_type": "markdown",
   "id": "011a754d",
   "metadata": {},
   "source": [
    "Примерные характеристики игры, которая пользуется популярностью:\n",
    "\n",
    "    Платформы: PS3, PS4, 3DS.\n",
    "    Жанр: Shooter\n",
    "    Рейтинг: M"
   ]
  }
 ],
 "metadata": {
  "ExecuteTimeLog": [
   {
    "duration": 577,
    "start_time": "2023-02-02T17:28:19.431Z"
   },
   {
    "duration": 19,
    "start_time": "2023-02-02T17:28:20.011Z"
   },
   {
    "duration": 37,
    "start_time": "2023-02-02T17:28:20.033Z"
   },
   {
    "duration": 1132,
    "start_time": "2023-02-02T17:28:20.071Z"
   },
   {
    "duration": 3,
    "start_time": "2023-02-02T17:28:21.205Z"
   },
   {
    "duration": 17,
    "start_time": "2023-02-02T17:28:21.210Z"
   },
   {
    "duration": 25,
    "start_time": "2023-02-02T17:28:21.229Z"
   },
   {
    "duration": 19,
    "start_time": "2023-02-02T17:28:21.255Z"
   },
   {
    "duration": 10,
    "start_time": "2023-02-02T17:28:21.276Z"
   },
   {
    "duration": 91,
    "start_time": "2023-02-02T17:28:21.289Z"
   },
   {
    "duration": 34,
    "start_time": "2023-02-02T17:28:21.382Z"
   },
   {
    "duration": 3,
    "start_time": "2023-02-02T17:28:21.418Z"
   },
   {
    "duration": 159,
    "start_time": "2023-02-02T17:28:21.423Z"
   },
   {
    "duration": 15,
    "start_time": "2023-02-02T17:28:21.584Z"
   },
   {
    "duration": 13,
    "start_time": "2023-02-02T17:28:21.600Z"
   },
   {
    "duration": 5,
    "start_time": "2023-02-02T17:28:21.615Z"
   },
   {
    "duration": 32,
    "start_time": "2023-02-02T17:28:21.622Z"
   },
   {
    "duration": 21,
    "start_time": "2023-02-02T17:28:21.656Z"
   },
   {
    "duration": 16,
    "start_time": "2023-02-02T17:28:21.679Z"
   },
   {
    "duration": 9,
    "start_time": "2023-02-02T17:28:21.696Z"
   },
   {
    "duration": 11,
    "start_time": "2023-02-02T17:28:21.706Z"
   },
   {
    "duration": 23,
    "start_time": "2023-02-02T17:28:21.719Z"
   },
   {
    "duration": 24,
    "start_time": "2023-02-02T17:28:21.744Z"
   },
   {
    "duration": 4,
    "start_time": "2023-02-02T17:28:21.770Z"
   },
   {
    "duration": 16,
    "start_time": "2023-02-02T17:28:21.775Z"
   },
   {
    "duration": 5,
    "start_time": "2023-02-02T17:28:21.793Z"
   },
   {
    "duration": 14,
    "start_time": "2023-02-02T17:28:21.800Z"
   },
   {
    "duration": 502,
    "start_time": "2023-02-02T17:28:21.817Z"
   },
   {
    "duration": 333,
    "start_time": "2023-02-02T17:28:22.320Z"
   },
   {
    "duration": 335,
    "start_time": "2023-02-02T17:28:22.655Z"
   },
   {
    "duration": 163,
    "start_time": "2023-02-02T17:28:22.992Z"
   },
   {
    "duration": 15,
    "start_time": "2023-02-02T17:28:23.157Z"
   },
   {
    "duration": 332,
    "start_time": "2023-02-02T17:28:23.173Z"
   },
   {
    "duration": 312,
    "start_time": "2023-02-02T17:28:23.506Z"
   },
   {
    "duration": 288,
    "start_time": "2023-02-02T17:28:23.819Z"
   },
   {
    "duration": 9,
    "start_time": "2023-02-02T17:28:24.109Z"
   },
   {
    "duration": 162,
    "start_time": "2023-02-02T17:28:24.119Z"
   },
   {
    "duration": 6,
    "start_time": "2023-02-02T17:28:24.283Z"
   },
   {
    "duration": 170,
    "start_time": "2023-02-02T17:28:24.290Z"
   },
   {
    "duration": 7,
    "start_time": "2023-02-02T17:28:24.462Z"
   },
   {
    "duration": 166,
    "start_time": "2023-02-02T17:28:24.470Z"
   },
   {
    "duration": 8,
    "start_time": "2023-02-02T17:28:24.637Z"
   },
   {
    "duration": 110,
    "start_time": "2023-02-02T17:28:24.653Z"
   },
   {
    "duration": 8,
    "start_time": "2023-02-02T17:28:24.765Z"
   },
   {
    "duration": 236,
    "start_time": "2023-02-02T17:28:24.774Z"
   },
   {
    "duration": 5,
    "start_time": "2023-02-02T17:28:25.012Z"
   },
   {
    "duration": 147,
    "start_time": "2023-02-02T17:28:25.019Z"
   },
   {
    "duration": 4,
    "start_time": "2023-02-02T17:28:25.168Z"
   },
   {
    "duration": 131,
    "start_time": "2023-02-02T17:28:25.174Z"
   },
   {
    "duration": 5,
    "start_time": "2023-02-02T17:28:25.307Z"
   },
   {
    "duration": 139,
    "start_time": "2023-02-02T17:28:25.314Z"
   },
   {
    "duration": 240,
    "start_time": "2023-02-02T17:28:25.455Z"
   },
   {
    "duration": 10,
    "start_time": "2023-02-02T17:28:25.697Z"
   },
   {
    "duration": 8,
    "start_time": "2023-02-02T17:28:25.709Z"
   },
   {
    "duration": 13,
    "start_time": "2023-02-02T17:28:25.718Z"
   },
   {
    "duration": 28,
    "start_time": "2023-02-02T17:28:25.732Z"
   },
   {
    "duration": 8,
    "start_time": "2023-02-02T17:28:25.762Z"
   },
   {
    "duration": 18,
    "start_time": "2023-02-02T17:28:25.772Z"
   },
   {
    "duration": 16,
    "start_time": "2023-02-02T17:28:25.791Z"
   },
   {
    "duration": 10,
    "start_time": "2023-02-02T17:28:25.809Z"
   },
   {
    "duration": 20,
    "start_time": "2023-02-02T17:28:25.820Z"
   },
   {
    "duration": 75,
    "start_time": "2023-02-02T17:28:25.841Z"
   },
   {
    "duration": 14,
    "start_time": "2023-02-02T17:28:25.918Z"
   },
   {
    "duration": 30,
    "start_time": "2023-02-02T17:28:25.933Z"
   },
   {
    "duration": 21,
    "start_time": "2023-02-02T17:28:25.964Z"
   },
   {
    "duration": 20,
    "start_time": "2023-02-02T17:28:25.987Z"
   },
   {
    "duration": 17,
    "start_time": "2023-02-02T17:28:26.009Z"
   },
   {
    "duration": 152,
    "start_time": "2023-02-02T17:28:26.028Z"
   },
   {
    "duration": 152,
    "start_time": "2023-02-02T17:28:26.181Z"
   },
   {
    "duration": 156,
    "start_time": "2023-02-02T17:28:26.335Z"
   },
   {
    "duration": 3,
    "start_time": "2023-02-02T17:28:26.493Z"
   },
   {
    "duration": 29,
    "start_time": "2023-02-02T17:28:26.497Z"
   },
   {
    "duration": 25,
    "start_time": "2023-02-02T17:28:26.527Z"
   },
   {
    "duration": 64,
    "start_time": "2023-02-02T17:28:26.554Z"
   },
   {
    "duration": 1132,
    "start_time": "2023-02-03T10:57:24.531Z"
   },
   {
    "duration": 70,
    "start_time": "2023-02-03T10:57:25.666Z"
   },
   {
    "duration": 15,
    "start_time": "2023-02-03T10:57:25.737Z"
   },
   {
    "duration": 20,
    "start_time": "2023-02-03T10:57:25.754Z"
   },
   {
    "duration": 811,
    "start_time": "2023-02-03T10:57:25.775Z"
   },
   {
    "duration": 5,
    "start_time": "2023-02-03T10:57:26.588Z"
   },
   {
    "duration": 20,
    "start_time": "2023-02-03T10:57:26.595Z"
   },
   {
    "duration": 20,
    "start_time": "2023-02-03T10:57:26.616Z"
   },
   {
    "duration": 63,
    "start_time": "2023-02-03T10:57:26.638Z"
   },
   {
    "duration": 13,
    "start_time": "2023-02-03T10:57:26.705Z"
   },
   {
    "duration": 22,
    "start_time": "2023-02-03T10:57:26.720Z"
   },
   {
    "duration": 20,
    "start_time": "2023-02-03T10:57:26.744Z"
   },
   {
    "duration": 10,
    "start_time": "2023-02-03T10:57:26.766Z"
   },
   {
    "duration": 33,
    "start_time": "2023-02-03T10:57:26.778Z"
   },
   {
    "duration": 5,
    "start_time": "2023-02-03T10:57:26.813Z"
   },
   {
    "duration": 7,
    "start_time": "2023-02-03T10:57:26.820Z"
   },
   {
    "duration": 9,
    "start_time": "2023-02-03T10:57:26.829Z"
   },
   {
    "duration": 7,
    "start_time": "2023-02-03T10:57:26.840Z"
   },
   {
    "duration": 24,
    "start_time": "2023-02-03T10:57:26.849Z"
   },
   {
    "duration": 12,
    "start_time": "2023-02-03T10:57:26.892Z"
   },
   {
    "duration": 5,
    "start_time": "2023-02-03T10:57:26.906Z"
   },
   {
    "duration": 21,
    "start_time": "2023-02-03T10:57:26.912Z"
   },
   {
    "duration": 20,
    "start_time": "2023-02-03T10:57:26.934Z"
   },
   {
    "duration": 4,
    "start_time": "2023-02-03T10:57:26.956Z"
   },
   {
    "duration": 42,
    "start_time": "2023-02-03T10:57:26.961Z"
   },
   {
    "duration": 7,
    "start_time": "2023-02-03T10:57:27.004Z"
   },
   {
    "duration": 17,
    "start_time": "2023-02-03T10:57:27.013Z"
   },
   {
    "duration": 14,
    "start_time": "2023-02-03T10:57:27.034Z"
   },
   {
    "duration": 367,
    "start_time": "2023-02-03T10:57:27.049Z"
   },
   {
    "duration": 274,
    "start_time": "2023-02-03T10:57:27.418Z"
   },
   {
    "duration": 244,
    "start_time": "2023-02-03T10:57:27.693Z"
   },
   {
    "duration": 18,
    "start_time": "2023-02-03T10:57:27.938Z"
   },
   {
    "duration": 315,
    "start_time": "2023-02-03T10:57:27.958Z"
   },
   {
    "duration": 552,
    "start_time": "2023-02-03T10:57:28.274Z"
   },
   {
    "duration": 6,
    "start_time": "2023-02-03T10:57:28.828Z"
   },
   {
    "duration": 139,
    "start_time": "2023-02-03T10:57:28.835Z"
   },
   {
    "duration": 15,
    "start_time": "2023-02-03T10:57:28.976Z"
   },
   {
    "duration": 144,
    "start_time": "2023-02-03T10:57:28.993Z"
   },
   {
    "duration": 6,
    "start_time": "2023-02-03T10:57:29.139Z"
   },
   {
    "duration": 157,
    "start_time": "2023-02-03T10:57:29.147Z"
   },
   {
    "duration": 8,
    "start_time": "2023-02-03T10:57:29.305Z"
   },
   {
    "duration": 208,
    "start_time": "2023-02-03T10:57:29.315Z"
   },
   {
    "duration": 7,
    "start_time": "2023-02-03T10:57:29.525Z"
   },
   {
    "duration": 140,
    "start_time": "2023-02-03T10:57:29.534Z"
   },
   {
    "duration": 16,
    "start_time": "2023-02-03T10:57:29.676Z"
   },
   {
    "duration": 119,
    "start_time": "2023-02-03T10:57:29.693Z"
   },
   {
    "duration": 5,
    "start_time": "2023-02-03T10:57:29.814Z"
   },
   {
    "duration": 124,
    "start_time": "2023-02-03T10:57:29.820Z"
   },
   {
    "duration": 5,
    "start_time": "2023-02-03T10:57:29.946Z"
   },
   {
    "duration": 147,
    "start_time": "2023-02-03T10:57:29.953Z"
   },
   {
    "duration": 324,
    "start_time": "2023-02-03T10:57:30.101Z"
   },
   {
    "duration": 10,
    "start_time": "2023-02-03T10:57:30.427Z"
   },
   {
    "duration": 20,
    "start_time": "2023-02-03T10:57:30.439Z"
   },
   {
    "duration": 38,
    "start_time": "2023-02-03T10:57:30.461Z"
   },
   {
    "duration": 21,
    "start_time": "2023-02-03T10:57:30.501Z"
   },
   {
    "duration": 35,
    "start_time": "2023-02-03T10:57:30.524Z"
   },
   {
    "duration": 41,
    "start_time": "2023-02-03T10:57:30.561Z"
   },
   {
    "duration": 37,
    "start_time": "2023-02-03T10:57:30.604Z"
   },
   {
    "duration": 61,
    "start_time": "2023-02-03T10:57:30.643Z"
   },
   {
    "duration": 56,
    "start_time": "2023-02-03T10:57:30.706Z"
   },
   {
    "duration": 66,
    "start_time": "2023-02-03T10:57:30.764Z"
   },
   {
    "duration": 45,
    "start_time": "2023-02-03T10:57:30.832Z"
   },
   {
    "duration": 56,
    "start_time": "2023-02-03T10:57:30.879Z"
   },
   {
    "duration": 37,
    "start_time": "2023-02-03T10:57:30.936Z"
   },
   {
    "duration": 26,
    "start_time": "2023-02-03T10:57:30.974Z"
   },
   {
    "duration": 16,
    "start_time": "2023-02-03T10:57:31.002Z"
   },
   {
    "duration": 160,
    "start_time": "2023-02-03T10:57:31.019Z"
   },
   {
    "duration": 153,
    "start_time": "2023-02-03T10:57:31.181Z"
   },
   {
    "duration": 162,
    "start_time": "2023-02-03T10:57:31.336Z"
   },
   {
    "duration": 8,
    "start_time": "2023-02-03T10:57:31.500Z"
   },
   {
    "duration": 20,
    "start_time": "2023-02-03T10:57:31.509Z"
   },
   {
    "duration": 19,
    "start_time": "2023-02-03T10:57:31.531Z"
   }
  ],
  "kernelspec": {
   "display_name": "Python 3 (ipykernel)",
   "language": "python",
   "name": "python3"
  },
  "language_info": {
   "codemirror_mode": {
    "name": "ipython",
    "version": 3
   },
   "file_extension": ".py",
   "mimetype": "text/x-python",
   "name": "python",
   "nbconvert_exporter": "python",
   "pygments_lexer": "ipython3",
   "version": "3.9.13"
  },
  "toc": {
   "base_numbering": 1,
   "nav_menu": {},
   "number_sections": true,
   "sideBar": true,
   "skip_h1_title": true,
   "title_cell": "Table of Contents",
   "title_sidebar": "Contents",
   "toc_cell": false,
   "toc_position": {},
   "toc_section_display": true,
   "toc_window_display": false
  }
 },
 "nbformat": 4,
 "nbformat_minor": 5
}
